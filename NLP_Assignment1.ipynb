{
  "nbformat": 4,
  "nbformat_minor": 0,
  "metadata": {
    "colab": {
      "provenance": [],
      "authorship_tag": "ABX9TyNvnmiZHyXv6sfFWYVkBqmI",
      "include_colab_link": true
    },
    "kernelspec": {
      "name": "python3",
      "display_name": "Python 3"
    },
    "language_info": {
      "name": "python"
    }
  },
  "cells": [
    {
      "cell_type": "markdown",
      "metadata": {
        "id": "view-in-github",
        "colab_type": "text"
      },
      "source": [
        "<a href=\"https://colab.research.google.com/github/tomfirer/NLP_Assignment1/blob/main/NLP_Assignment1.ipynb\" target=\"_parent\"><img src=\"https://colab.research.google.com/assets/colab-badge.svg\" alt=\"Open In Colab\"/></a>"
      ]
    },
    {
      "cell_type": "code",
      "execution_count": 2,
      "metadata": {
        "id": "V98qIkzjz9VA",
        "colab": {
          "base_uri": "https://localhost:8080/"
        },
        "outputId": "34e9a2ee-d090-4e52-8fd8-cdb3f631e60c"
      },
      "outputs": [
        {
          "output_type": "stream",
          "name": "stderr",
          "text": [
            "[nltk_data] Downloading package punkt to /root/nltk_data...\n",
            "[nltk_data]   Unzipping tokenizers/punkt.zip.\n",
            "[nltk_data] Downloading package wordnet to /root/nltk_data...\n"
          ]
        }
      ],
      "source": [
        "#imports\n",
        "import pandas as pd\n",
        "import numpy as np\n",
        "import sklearn\n",
        "from sklearn.feature_extraction.text import CountVectorizer\n",
        "import time\n",
        "\n",
        "import nltk\n",
        "from nltk.stem import LancasterStemmer\n",
        "from nltk.stem import WordNetLemmatizer\n",
        "from nltk.tokenize import RegexpTokenizer\n",
        "\n",
        "nltk.download('punkt')\n",
        "nltk.download('wordnet')\n",
        "\n",
        "import spacy\n",
        "from spacy.tokenizer import Tokenizer\n",
        "from spacy.lang.en import English\n",
        "\n",
        "import requests\n",
        "from bs4 import BeautifulSoup"
      ]
    },
    {
      "cell_type": "code",
      "source": [
        "def print_basic_statistics_from_df(df):\n",
        "  print('----- Basic Statistics -----')\n",
        "  print('Number of messages: {}'.format(df.shape[0]))\n",
        "  print('\\tHam messages: {}'.format(df['v1'].value_counts()['ham']))\n",
        "  print('\\tSpam messages: {}'.format(df['v1'].value_counts()['spam']))\n",
        "  print_basic_statistics_from_sentences(df['v2'])\n",
        "\n",
        "\n",
        "def print_basic_statistics_from_sentences(string_arr):\n",
        "  print('Average number of words per message: {}'.format(get_average_number_of_words(string_arr)))\n",
        "  word_frequency_info = get_word_frequency_info(string_arr)\n",
        "  print('Five most frequent words: {}'.format(get_five_most_frequent_words(word_frequency_info)))\n",
        "  print('Number of words that appear once: {}'.format(get_number_of_unique_words(word_frequency_info)))\n",
        "\n",
        "\n",
        "def get_average_number_of_words(string_arr):\n",
        "  num_of_words = [count_num_of_words(s) for s in string_arr]\n",
        "  return sum(num_of_words)/len(num_of_words)\n",
        "\n",
        "\n",
        "def get_word_frequency_info(string_arr):\n",
        "  corpus = np.array(string_arr)\n",
        "  vectorizer = CountVectorizer(tokenizer=lambda x: x.split(), token_pattern=None)\n",
        "  X = vectorizer.fit_transform(corpus)\n",
        "  words = vectorizer.get_feature_names_out()\n",
        "  frequencies = np.sum(np.array(X.toarray()), axis=0)\n",
        "  return (words, frequencies)\n",
        "\n",
        "\n",
        "def get_number_of_unique_words(word_frequency_info):\n",
        "  return list(word_frequency_info[1]).count(1)\n",
        "\n",
        "\n",
        "def get_five_most_frequent_words(word_frequency_info):\n",
        "  words = word_frequency_info[0]\n",
        "  frequencies = word_frequency_info[1]\n",
        "\n",
        "  frequency_and_index_tupples = list(zip(frequencies, range(len(frequencies))))\n",
        "  sorted_frequency_and_index_tupples = sorted(frequency_and_index_tupples, key = lambda tup: tup[0])\n",
        "  five_most_frequent_tupple = sorted_frequency_and_index_tupples[-5:len(sorted_frequency_and_index_tupples)]\n",
        "  five_most_frequent_indices = [tup[1] for tup in five_most_frequent_tupple]\n",
        "  five_most_frequent_words = [words[i] for i in five_most_frequent_indices]\n",
        "  return five_most_frequent_words\n",
        "\n",
        "\n",
        "def count_num_of_words(string):\n",
        "  if string.strip == \"\":\n",
        "    return 0\n",
        "  return len(string.split())\n",
        "\n",
        "\n",
        "def clean_data(df, column):\n",
        "  tokenizer = RegexpTokenizer(r'\\w+')\n",
        "  new_column = [\" \".join(tokens) for tokens in df[column].apply(tokenizer.tokenize)]\n",
        "  df[column] = new_column\n",
        "  return df\n",
        "\n",
        "\n",
        "  #receives an array of sentenecs and returns a matrix of tokens\n",
        "def tokenize_using_nltk(sentence_arr):\n",
        "  result_tokens_array = []\n",
        "  start_time = time.time()\n",
        "\n",
        "  for sentence in sentence_arr:\n",
        "    result_tokens_array.append(nltk.word_tokenize(sentence))\n",
        "  print('Time elapsed: {}[sec]'.format(np.round((time.time() - start_time), decimals = 4)))\n",
        "\n",
        "  return result_tokens_array\n",
        "\n",
        "\n",
        "#receives an array of sentenecs and returns a matrix of tokens\n",
        "def tokenize_using_spacy(sentence_arr):\n",
        "  nlp = English()\n",
        "  tokenizer = Tokenizer(nlp.vocab)\n",
        "  result_tokens_array = []\n",
        "  start_time = time.time()\n",
        "\n",
        "  for sentence in sentence_arr:\n",
        "    result_tokens_array.append(list(tokenizer(sentence)))\n",
        "  print('Time elapsed: {}[sec]'.format(np.round((time.time() - start_time), decimals = 4)))\n",
        "\n",
        "  return result_tokens_array\n",
        "\n",
        "\n",
        "def stem_using_nltk(token_mat):\n",
        "  stemming_res = []\n",
        "  ls = LancasterStemmer()\n",
        "  start_time = time.time()\n",
        "\n",
        "  for s in token_mat:\n",
        "    stemming_res.append([ls.stem(token) for token in s])\n",
        "\n",
        "  print('Time elapsed: {}[sec]'.format(np.round((time.time() - start_time), decimals = 4)))\n",
        "  return stemming_res\n",
        "\n",
        "\n",
        "#turns a matrix of tokens into an array of strings\n",
        "def token_matrix_to_string_array(mat):\n",
        "  return [' '.join([str(x) for x in token_arr]) for token_arr in mat]\n",
        "\n",
        "\n",
        "def lemmatize_using_nltk(token_mat):\n",
        "  lemmatizer = WordNetLemmatizer()\n",
        "  lemmatized_res = []\n",
        "  start_time = time.time()\n",
        "\n",
        "  for s in token_mat:\n",
        "    lemmatized_res.append([lemmatizer.lemmatize(token) for token in s])\n",
        "\n",
        "  print('Time elapsed: {}[sec]'.format(np.round((time.time() - start_time), decimals = 4)))\n",
        "  return lemmatized_res\n",
        "\n",
        "\n",
        "def lemmatize_using_spacy(string_arr):\n",
        "  nlp = spacy.load(\"en_core_web_sm\")\n",
        "  lemmatized_res = []\n",
        "  start_time = time.time()\n",
        "\n",
        "  for doc in nlp.pipe(string_arr):\n",
        "    lemmatized_res.append([token.lemma_ for token in doc])\n",
        "\n",
        "  print('Time elapsed: {}[sec]'.format(np.round((time.time() - start_time), decimals = 4)))\n",
        "  return lemmatized_res"
      ],
      "metadata": {
        "id": "xbOMbefk9A6I"
      },
      "execution_count": 3,
      "outputs": []
    },
    {
      "cell_type": "code",
      "source": [
        "spam_df = pd.read_csv(\"/content/spam.csv\", encoding = \"ISO-8859-1\")\n",
        "spam_df = spam_df.drop(spam_df.columns[[2, 3, 4]], axis = 'columns')\n",
        "spam_df = clean_data(spam_df, 'v2')\n",
        "spam_df"
      ],
      "metadata": {
        "id": "MIyQJdhD1RhB",
        "colab": {
          "base_uri": "https://localhost:8080/",
          "height": 423
        },
        "outputId": "e193d4bc-23d8-4012-c360-e48acc30ad70"
      },
      "execution_count": 5,
      "outputs": [
        {
          "output_type": "execute_result",
          "data": {
            "text/plain": [
              "        v1                                                 v2\n",
              "0      ham  Go until jurong point crazy Available only in ...\n",
              "1      ham                            Ok lar Joking wif u oni\n",
              "2     spam  Free entry in 2 a wkly comp to win FA Cup fina...\n",
              "3      ham        U dun say so early hor U c already then say\n",
              "4      ham  Nah I don t think he goes to usf he lives arou...\n",
              "...    ...                                                ...\n",
              "5567  spam  This is the 2nd time we have tried 2 contact u...\n",
              "5568   ham               Will Ì_ b going to esplanade fr home\n",
              "5569   ham  Pity was in mood for that So any other suggest...\n",
              "5570   ham  The guy did some bitching but I acted like i d...\n",
              "5571   ham                          Rofl Its true to its name\n",
              "\n",
              "[5572 rows x 2 columns]"
            ],
            "text/html": [
              "\n",
              "  <div id=\"df-17d61377-6830-4a23-9bf2-2b3c83d79bc8\" class=\"colab-df-container\">\n",
              "    <div>\n",
              "<style scoped>\n",
              "    .dataframe tbody tr th:only-of-type {\n",
              "        vertical-align: middle;\n",
              "    }\n",
              "\n",
              "    .dataframe tbody tr th {\n",
              "        vertical-align: top;\n",
              "    }\n",
              "\n",
              "    .dataframe thead th {\n",
              "        text-align: right;\n",
              "    }\n",
              "</style>\n",
              "<table border=\"1\" class=\"dataframe\">\n",
              "  <thead>\n",
              "    <tr style=\"text-align: right;\">\n",
              "      <th></th>\n",
              "      <th>v1</th>\n",
              "      <th>v2</th>\n",
              "    </tr>\n",
              "  </thead>\n",
              "  <tbody>\n",
              "    <tr>\n",
              "      <th>0</th>\n",
              "      <td>ham</td>\n",
              "      <td>Go until jurong point crazy Available only in ...</td>\n",
              "    </tr>\n",
              "    <tr>\n",
              "      <th>1</th>\n",
              "      <td>ham</td>\n",
              "      <td>Ok lar Joking wif u oni</td>\n",
              "    </tr>\n",
              "    <tr>\n",
              "      <th>2</th>\n",
              "      <td>spam</td>\n",
              "      <td>Free entry in 2 a wkly comp to win FA Cup fina...</td>\n",
              "    </tr>\n",
              "    <tr>\n",
              "      <th>3</th>\n",
              "      <td>ham</td>\n",
              "      <td>U dun say so early hor U c already then say</td>\n",
              "    </tr>\n",
              "    <tr>\n",
              "      <th>4</th>\n",
              "      <td>ham</td>\n",
              "      <td>Nah I don t think he goes to usf he lives arou...</td>\n",
              "    </tr>\n",
              "    <tr>\n",
              "      <th>...</th>\n",
              "      <td>...</td>\n",
              "      <td>...</td>\n",
              "    </tr>\n",
              "    <tr>\n",
              "      <th>5567</th>\n",
              "      <td>spam</td>\n",
              "      <td>This is the 2nd time we have tried 2 contact u...</td>\n",
              "    </tr>\n",
              "    <tr>\n",
              "      <th>5568</th>\n",
              "      <td>ham</td>\n",
              "      <td>Will Ì_ b going to esplanade fr home</td>\n",
              "    </tr>\n",
              "    <tr>\n",
              "      <th>5569</th>\n",
              "      <td>ham</td>\n",
              "      <td>Pity was in mood for that So any other suggest...</td>\n",
              "    </tr>\n",
              "    <tr>\n",
              "      <th>5570</th>\n",
              "      <td>ham</td>\n",
              "      <td>The guy did some bitching but I acted like i d...</td>\n",
              "    </tr>\n",
              "    <tr>\n",
              "      <th>5571</th>\n",
              "      <td>ham</td>\n",
              "      <td>Rofl Its true to its name</td>\n",
              "    </tr>\n",
              "  </tbody>\n",
              "</table>\n",
              "<p>5572 rows × 2 columns</p>\n",
              "</div>\n",
              "    <div class=\"colab-df-buttons\">\n",
              "\n",
              "  <div class=\"colab-df-container\">\n",
              "    <button class=\"colab-df-convert\" onclick=\"convertToInteractive('df-17d61377-6830-4a23-9bf2-2b3c83d79bc8')\"\n",
              "            title=\"Convert this dataframe to an interactive table.\"\n",
              "            style=\"display:none;\">\n",
              "\n",
              "  <svg xmlns=\"http://www.w3.org/2000/svg\" height=\"24px\" viewBox=\"0 -960 960 960\">\n",
              "    <path d=\"M120-120v-720h720v720H120Zm60-500h600v-160H180v160Zm220 220h160v-160H400v160Zm0 220h160v-160H400v160ZM180-400h160v-160H180v160Zm440 0h160v-160H620v160ZM180-180h160v-160H180v160Zm440 0h160v-160H620v160Z\"/>\n",
              "  </svg>\n",
              "    </button>\n",
              "\n",
              "  <style>\n",
              "    .colab-df-container {\n",
              "      display:flex;\n",
              "      gap: 12px;\n",
              "    }\n",
              "\n",
              "    .colab-df-convert {\n",
              "      background-color: #E8F0FE;\n",
              "      border: none;\n",
              "      border-radius: 50%;\n",
              "      cursor: pointer;\n",
              "      display: none;\n",
              "      fill: #1967D2;\n",
              "      height: 32px;\n",
              "      padding: 0 0 0 0;\n",
              "      width: 32px;\n",
              "    }\n",
              "\n",
              "    .colab-df-convert:hover {\n",
              "      background-color: #E2EBFA;\n",
              "      box-shadow: 0px 1px 2px rgba(60, 64, 67, 0.3), 0px 1px 3px 1px rgba(60, 64, 67, 0.15);\n",
              "      fill: #174EA6;\n",
              "    }\n",
              "\n",
              "    .colab-df-buttons div {\n",
              "      margin-bottom: 4px;\n",
              "    }\n",
              "\n",
              "    [theme=dark] .colab-df-convert {\n",
              "      background-color: #3B4455;\n",
              "      fill: #D2E3FC;\n",
              "    }\n",
              "\n",
              "    [theme=dark] .colab-df-convert:hover {\n",
              "      background-color: #434B5C;\n",
              "      box-shadow: 0px 1px 3px 1px rgba(0, 0, 0, 0.15);\n",
              "      filter: drop-shadow(0px 1px 2px rgba(0, 0, 0, 0.3));\n",
              "      fill: #FFFFFF;\n",
              "    }\n",
              "  </style>\n",
              "\n",
              "    <script>\n",
              "      const buttonEl =\n",
              "        document.querySelector('#df-17d61377-6830-4a23-9bf2-2b3c83d79bc8 button.colab-df-convert');\n",
              "      buttonEl.style.display =\n",
              "        google.colab.kernel.accessAllowed ? 'block' : 'none';\n",
              "\n",
              "      async function convertToInteractive(key) {\n",
              "        const element = document.querySelector('#df-17d61377-6830-4a23-9bf2-2b3c83d79bc8');\n",
              "        const dataTable =\n",
              "          await google.colab.kernel.invokeFunction('convertToInteractive',\n",
              "                                                    [key], {});\n",
              "        if (!dataTable) return;\n",
              "\n",
              "        const docLinkHtml = 'Like what you see? Visit the ' +\n",
              "          '<a target=\"_blank\" href=https://colab.research.google.com/notebooks/data_table.ipynb>data table notebook</a>'\n",
              "          + ' to learn more about interactive tables.';\n",
              "        element.innerHTML = '';\n",
              "        dataTable['output_type'] = 'display_data';\n",
              "        await google.colab.output.renderOutput(dataTable, element);\n",
              "        const docLink = document.createElement('div');\n",
              "        docLink.innerHTML = docLinkHtml;\n",
              "        element.appendChild(docLink);\n",
              "      }\n",
              "    </script>\n",
              "  </div>\n",
              "\n",
              "\n",
              "<div id=\"df-f9a2a89a-81f0-476c-91bf-efb01babf16f\">\n",
              "  <button class=\"colab-df-quickchart\" onclick=\"quickchart('df-f9a2a89a-81f0-476c-91bf-efb01babf16f')\"\n",
              "            title=\"Suggest charts\"\n",
              "            style=\"display:none;\">\n",
              "\n",
              "<svg xmlns=\"http://www.w3.org/2000/svg\" height=\"24px\"viewBox=\"0 0 24 24\"\n",
              "     width=\"24px\">\n",
              "    <g>\n",
              "        <path d=\"M19 3H5c-1.1 0-2 .9-2 2v14c0 1.1.9 2 2 2h14c1.1 0 2-.9 2-2V5c0-1.1-.9-2-2-2zM9 17H7v-7h2v7zm4 0h-2V7h2v10zm4 0h-2v-4h2v4z\"/>\n",
              "    </g>\n",
              "</svg>\n",
              "  </button>\n",
              "\n",
              "<style>\n",
              "  .colab-df-quickchart {\n",
              "      --bg-color: #E8F0FE;\n",
              "      --fill-color: #1967D2;\n",
              "      --hover-bg-color: #E2EBFA;\n",
              "      --hover-fill-color: #174EA6;\n",
              "      --disabled-fill-color: #AAA;\n",
              "      --disabled-bg-color: #DDD;\n",
              "  }\n",
              "\n",
              "  [theme=dark] .colab-df-quickchart {\n",
              "      --bg-color: #3B4455;\n",
              "      --fill-color: #D2E3FC;\n",
              "      --hover-bg-color: #434B5C;\n",
              "      --hover-fill-color: #FFFFFF;\n",
              "      --disabled-bg-color: #3B4455;\n",
              "      --disabled-fill-color: #666;\n",
              "  }\n",
              "\n",
              "  .colab-df-quickchart {\n",
              "    background-color: var(--bg-color);\n",
              "    border: none;\n",
              "    border-radius: 50%;\n",
              "    cursor: pointer;\n",
              "    display: none;\n",
              "    fill: var(--fill-color);\n",
              "    height: 32px;\n",
              "    padding: 0;\n",
              "    width: 32px;\n",
              "  }\n",
              "\n",
              "  .colab-df-quickchart:hover {\n",
              "    background-color: var(--hover-bg-color);\n",
              "    box-shadow: 0 1px 2px rgba(60, 64, 67, 0.3), 0 1px 3px 1px rgba(60, 64, 67, 0.15);\n",
              "    fill: var(--button-hover-fill-color);\n",
              "  }\n",
              "\n",
              "  .colab-df-quickchart-complete:disabled,\n",
              "  .colab-df-quickchart-complete:disabled:hover {\n",
              "    background-color: var(--disabled-bg-color);\n",
              "    fill: var(--disabled-fill-color);\n",
              "    box-shadow: none;\n",
              "  }\n",
              "\n",
              "  .colab-df-spinner {\n",
              "    border: 2px solid var(--fill-color);\n",
              "    border-color: transparent;\n",
              "    border-bottom-color: var(--fill-color);\n",
              "    animation:\n",
              "      spin 1s steps(1) infinite;\n",
              "  }\n",
              "\n",
              "  @keyframes spin {\n",
              "    0% {\n",
              "      border-color: transparent;\n",
              "      border-bottom-color: var(--fill-color);\n",
              "      border-left-color: var(--fill-color);\n",
              "    }\n",
              "    20% {\n",
              "      border-color: transparent;\n",
              "      border-left-color: var(--fill-color);\n",
              "      border-top-color: var(--fill-color);\n",
              "    }\n",
              "    30% {\n",
              "      border-color: transparent;\n",
              "      border-left-color: var(--fill-color);\n",
              "      border-top-color: var(--fill-color);\n",
              "      border-right-color: var(--fill-color);\n",
              "    }\n",
              "    40% {\n",
              "      border-color: transparent;\n",
              "      border-right-color: var(--fill-color);\n",
              "      border-top-color: var(--fill-color);\n",
              "    }\n",
              "    60% {\n",
              "      border-color: transparent;\n",
              "      border-right-color: var(--fill-color);\n",
              "    }\n",
              "    80% {\n",
              "      border-color: transparent;\n",
              "      border-right-color: var(--fill-color);\n",
              "      border-bottom-color: var(--fill-color);\n",
              "    }\n",
              "    90% {\n",
              "      border-color: transparent;\n",
              "      border-bottom-color: var(--fill-color);\n",
              "    }\n",
              "  }\n",
              "</style>\n",
              "\n",
              "  <script>\n",
              "    async function quickchart(key) {\n",
              "      const quickchartButtonEl =\n",
              "        document.querySelector('#' + key + ' button');\n",
              "      quickchartButtonEl.disabled = true;  // To prevent multiple clicks.\n",
              "      quickchartButtonEl.classList.add('colab-df-spinner');\n",
              "      try {\n",
              "        const charts = await google.colab.kernel.invokeFunction(\n",
              "            'suggestCharts', [key], {});\n",
              "      } catch (error) {\n",
              "        console.error('Error during call to suggestCharts:', error);\n",
              "      }\n",
              "      quickchartButtonEl.classList.remove('colab-df-spinner');\n",
              "      quickchartButtonEl.classList.add('colab-df-quickchart-complete');\n",
              "    }\n",
              "    (() => {\n",
              "      let quickchartButtonEl =\n",
              "        document.querySelector('#df-f9a2a89a-81f0-476c-91bf-efb01babf16f button');\n",
              "      quickchartButtonEl.style.display =\n",
              "        google.colab.kernel.accessAllowed ? 'block' : 'none';\n",
              "    })();\n",
              "  </script>\n",
              "</div>\n",
              "\n",
              "  <div id=\"id_61ee77c0-01b3-46f2-88a4-5c4b0a4e75be\">\n",
              "    <style>\n",
              "      .colab-df-generate {\n",
              "        background-color: #E8F0FE;\n",
              "        border: none;\n",
              "        border-radius: 50%;\n",
              "        cursor: pointer;\n",
              "        display: none;\n",
              "        fill: #1967D2;\n",
              "        height: 32px;\n",
              "        padding: 0 0 0 0;\n",
              "        width: 32px;\n",
              "      }\n",
              "\n",
              "      .colab-df-generate:hover {\n",
              "        background-color: #E2EBFA;\n",
              "        box-shadow: 0px 1px 2px rgba(60, 64, 67, 0.3), 0px 1px 3px 1px rgba(60, 64, 67, 0.15);\n",
              "        fill: #174EA6;\n",
              "      }\n",
              "\n",
              "      [theme=dark] .colab-df-generate {\n",
              "        background-color: #3B4455;\n",
              "        fill: #D2E3FC;\n",
              "      }\n",
              "\n",
              "      [theme=dark] .colab-df-generate:hover {\n",
              "        background-color: #434B5C;\n",
              "        box-shadow: 0px 1px 3px 1px rgba(0, 0, 0, 0.15);\n",
              "        filter: drop-shadow(0px 1px 2px rgba(0, 0, 0, 0.3));\n",
              "        fill: #FFFFFF;\n",
              "      }\n",
              "    </style>\n",
              "    <button class=\"colab-df-generate\" onclick=\"generateWithVariable('spam_df')\"\n",
              "            title=\"Generate code using this dataframe.\"\n",
              "            style=\"display:none;\">\n",
              "\n",
              "  <svg xmlns=\"http://www.w3.org/2000/svg\" height=\"24px\"viewBox=\"0 0 24 24\"\n",
              "       width=\"24px\">\n",
              "    <path d=\"M7,19H8.4L18.45,9,17,7.55,7,17.6ZM5,21V16.75L18.45,3.32a2,2,0,0,1,2.83,0l1.4,1.43a1.91,1.91,0,0,1,.58,1.4,1.91,1.91,0,0,1-.58,1.4L9.25,21ZM18.45,9,17,7.55Zm-12,3A5.31,5.31,0,0,0,4.9,8.1,5.31,5.31,0,0,0,1,6.5,5.31,5.31,0,0,0,4.9,4.9,5.31,5.31,0,0,0,6.5,1,5.31,5.31,0,0,0,8.1,4.9,5.31,5.31,0,0,0,12,6.5,5.46,5.46,0,0,0,6.5,12Z\"/>\n",
              "  </svg>\n",
              "    </button>\n",
              "    <script>\n",
              "      (() => {\n",
              "      const buttonEl =\n",
              "        document.querySelector('#id_61ee77c0-01b3-46f2-88a4-5c4b0a4e75be button.colab-df-generate');\n",
              "      buttonEl.style.display =\n",
              "        google.colab.kernel.accessAllowed ? 'block' : 'none';\n",
              "\n",
              "      buttonEl.onclick = () => {\n",
              "        google.colab.notebook.generateWithVariable('spam_df');\n",
              "      }\n",
              "      })();\n",
              "    </script>\n",
              "  </div>\n",
              "\n",
              "    </div>\n",
              "  </div>\n"
            ],
            "application/vnd.google.colaboratory.intrinsic+json": {
              "type": "dataframe",
              "variable_name": "spam_df",
              "summary": "{\n  \"name\": \"spam_df\",\n  \"rows\": 5572,\n  \"fields\": [\n    {\n      \"column\": \"v1\",\n      \"properties\": {\n        \"dtype\": \"category\",\n        \"num_unique_values\": 2,\n        \"samples\": [\n          \"spam\",\n          \"ham\"\n        ],\n        \"semantic_type\": \"\",\n        \"description\": \"\"\n      }\n    },\n    {\n      \"column\": \"v2\",\n      \"properties\": {\n        \"dtype\": \"string\",\n        \"num_unique_values\": 5130,\n        \"samples\": [\n          \"U still havent got urself a jacket ah\",\n          \"Velly good yes please\"\n        ],\n        \"semantic_type\": \"\",\n        \"description\": \"\"\n      }\n    }\n  ]\n}"
            }
          },
          "metadata": {},
          "execution_count": 5
        }
      ]
    },
    {
      "cell_type": "code",
      "source": [
        "print_basic_statistics_from_df(spam_df)"
      ],
      "metadata": {
        "colab": {
          "base_uri": "https://localhost:8080/"
        },
        "id": "5wnM3Q5yfr2a",
        "outputId": "6d95c717-6904-4bba-e1fd-9bcd0829093b"
      },
      "execution_count": 6,
      "outputs": [
        {
          "output_type": "stream",
          "name": "stdout",
          "text": [
            "----- Basic Statistics -----\n",
            "Number of messages: 5572\n",
            "\tHam messages: 4825\n",
            "\tSpam messages: 747\n",
            "Average number of words per message: 16.17121320890165\n",
            "Five most frequent words: ['the', 'a', 'you', 'to', 'i']\n",
            "Number of words that appear once: 4376\n"
          ]
        }
      ]
    },
    {
      "cell_type": "code",
      "source": [
        "### Performing Tokenization on the Spam File Using NLTK ###\n",
        "nltk_tokens = tokenize_using_nltk(spam_df['v2'])\n",
        "print('\\n{}'.format(nltk_tokens[0:5]))\n",
        "print('Type of token: {}\\n'.format(type(nltk_tokens[0][0])))\n",
        "\n",
        "print_basic_statistics_from_sentences(token_matrix_to_string_array(nltk_tokens))"
      ],
      "metadata": {
        "colab": {
          "base_uri": "https://localhost:8080/"
        },
        "id": "lTzDdzLqK7e3",
        "outputId": "92f08b62-f92e-44c1-cf26-d1cd4f4bbcf9"
      },
      "execution_count": 8,
      "outputs": [
        {
          "output_type": "stream",
          "name": "stdout",
          "text": [
            "Time elapsed: 0.6491[sec]\n",
            "\n",
            "[['Go', 'until', 'jurong', 'point', 'crazy', 'Available', 'only', 'in', 'bugis', 'n', 'great', 'world', 'la', 'e', 'buffet', 'Cine', 'there', 'got', 'amore', 'wat'], ['Ok', 'lar', 'Joking', 'wif', 'u', 'oni'], ['Free', 'entry', 'in', '2', 'a', 'wkly', 'comp', 'to', 'win', 'FA', 'Cup', 'final', 'tkts', '21st', 'May', '2005', 'Text', 'FA', 'to', '87121', 'to', 'receive', 'entry', 'question', 'std', 'txt', 'rate', 'T', 'C', 's', 'apply', '08452810075over18', 's'], ['U', 'dun', 'say', 'so', 'early', 'hor', 'U', 'c', 'already', 'then', 'say'], ['Nah', 'I', 'don', 't', 'think', 'he', 'goes', 'to', 'usf', 'he', 'lives', 'around', 'here', 'though']]\n",
            "Type of token: <class 'str'>\n",
            "\n",
            "Average number of words per message: 16.193467336683415\n",
            "Five most frequent words: ['the', 'a', 'you', 'to', 'i']\n",
            "Number of words that appear once: 4375\n"
          ]
        }
      ]
    },
    {
      "cell_type": "code",
      "source": [
        "### Performing Tokenization on the Spam File Using SpaCy ###\n",
        "spacy_tokens = tokenize_using_spacy(spam_df['v2'])\n",
        "print('\\n{}'.format(spacy_tokens[0:5]))\n",
        "print('Type of token: {}\\n'.format(type(spacy_tokens[0][0])))\n",
        "\n",
        "print_basic_statistics_from_sentences(token_matrix_to_string_array(spacy_tokens))"
      ],
      "metadata": {
        "colab": {
          "base_uri": "https://localhost:8080/"
        },
        "id": "GfzQSzagNZ_A",
        "outputId": "f40cab23-f8f6-42c5-bf79-e535c42c9164"
      },
      "execution_count": 9,
      "outputs": [
        {
          "output_type": "stream",
          "name": "stdout",
          "text": [
            "Time elapsed: 1.0077[sec]\n",
            "\n",
            "[[Go, until, jurong, point, crazy, Available, only, in, bugis, n, great, world, la, e, buffet, Cine, there, got, amore, wat], [Ok, lar, Joking, wif, u, oni], [Free, entry, in, 2, a, wkly, comp, to, win, FA, Cup, final, tkts, 21st, May, 2005, Text, FA, to, 87121, to, receive, entry, question, std, txt, rate, T, C, s, apply, 08452810075over18, s], [U, dun, say, so, early, hor, U, c, already, then, say], [Nah, I, don, t, think, he, goes, to, usf, he, lives, around, here, though]]\n",
            "Type of token: <class 'spacy.tokens.token.Token'>\n",
            "\n",
            "Average number of words per message: 16.17121320890165\n",
            "Five most frequent words: ['the', 'a', 'you', 'to', 'i']\n",
            "Number of words that appear once: 4376\n"
          ]
        }
      ]
    },
    {
      "cell_type": "markdown",
      "source": [
        "The two tokenization techniques have similar processing speeds.</br>\n",
        "In both techniques, the process speed depends on the size of the text.</br>\n",
        "The NLTK library outputs tokens of type <'str'> while the SpaCy library outputs tokens of type <'spacy.tokens.token.Token'> that is special to the library.</br>\n",
        "Another difference between NLTK and spaCy is their handling of punctuation. NLTK separates punctuation into individual tokens. For example, 'point,' is tokenized as 'point' and ','. While, spaCy keeps punctuation attached to the word, so 'point,' remains a single token."
      ],
      "metadata": {
        "id": "RcIzjU39K6WQ"
      }
    },
    {
      "cell_type": "code",
      "source": [
        "### Performing Stemming on the Spam File Using NLTK ###\n",
        "nltk_stemmed = stem_using_nltk(nltk_tokens)\n",
        "print('\\n{}'.format(nltk_stemmed[0:5]))\n",
        "print('\\nType of token: {}'.format(type(nltk_stemmed[0][0])))\n",
        "\n",
        "print_basic_statistics_from_sentences(token_matrix_to_string_array(nltk_stemmed))"
      ],
      "metadata": {
        "colab": {
          "base_uri": "https://localhost:8080/"
        },
        "id": "LjMPYN2AUrH3",
        "outputId": "198bf520-7659-4525-e3bf-d7a2d7f4a609"
      },
      "execution_count": 10,
      "outputs": [
        {
          "output_type": "stream",
          "name": "stdout",
          "text": [
            "Time elapsed: 0.9103[sec]\n",
            "\n",
            "[['go', 'until', 'jurong', 'point', 'crazy', 'avail', 'on', 'in', 'bug', 'n', 'gre', 'world', 'la', 'e', 'buffet', 'cin', 'ther', 'got', 'am', 'wat'], ['ok', 'lar', 'jok', 'wif', 'u', 'on']]\n",
            "\n",
            "Type of token: <class 'str'>\n",
            "Average number of words per message: 16.193467336683415\n",
            "Five most frequent words: ['the', 'a', 'you', 'to', 'i']\n",
            "Number of words that appear once: 3169\n"
          ]
        }
      ]
    },
    {
      "cell_type": "markdown",
      "source": [
        "The running time of the syemming depends on the size of the tokenized text.</br> Stemming involves applying rules to reduce tokens to their root forms, adding more rules and handling irregular forms can add complexity and worsen processing time.</br>\n",
        "Just as with its tokenization method, NLTK outputs stemmed tokens of type <'str'>.</br>\n",
        "From what I've searched online, spaCy does not have a stemming method so I couldn't apply it in this assignment."
      ],
      "metadata": {
        "id": "LGJOidiQK7ko"
      }
    },
    {
      "cell_type": "code",
      "source": [
        "### Performing Lemmatization on the Spam File Using NLTK ###\n",
        "nltk_lemmatized = lemmatize_using_nltk(nltk_tokens)\n",
        "print('\\n{}'.format(nltk_lemmatized[0:5]))\n",
        "print('Type of token: {}\\n'.format(type(nltk_lemmatized[0][0])))\n",
        "\n",
        "print_basic_statistics_from_sentences(token_matrix_to_string_array(nltk_lemmatized))"
      ],
      "metadata": {
        "colab": {
          "base_uri": "https://localhost:8080/"
        },
        "id": "daRV1sUiLeHH",
        "outputId": "f10e323e-1922-4226-c89b-e02c276e3ae6"
      },
      "execution_count": 11,
      "outputs": [
        {
          "output_type": "stream",
          "name": "stdout",
          "text": [
            "Time elapsed: 2.1561[sec]\n",
            "\n",
            "[['Go', 'until', 'jurong', 'point', 'crazy', 'Available', 'only', 'in', 'bugis', 'n', 'great', 'world', 'la', 'e', 'buffet', 'Cine', 'there', 'got', 'amore', 'wat'], ['Ok', 'lar', 'Joking', 'wif', 'u', 'oni']]\n",
            "Type of token: <class 'str'>\n",
            "\n",
            "Average number of words per message: 16.193467336683415\n",
            "Five most frequent words: ['the', 'a', 'you', 'to', 'i']\n",
            "Number of words that appear once: 4161\n"
          ]
        }
      ]
    },
    {
      "cell_type": "code",
      "source": [
        "### Performing Lemmatization on the Spam File Using SpaCy ###\n",
        "spacy_lemmatized = lemmatize_using_spacy(spam_df['v2'])\n",
        "print('\\n{}'.format(spacy_lemmatized[0:5]))\n",
        "print('Type of token: {}\\n'.format(type(spacy_lemmatized[0][0])))\n",
        "\n",
        "print_basic_statistics_from_sentences(token_matrix_to_string_array(spacy_lemmatized))"
      ],
      "metadata": {
        "colab": {
          "base_uri": "https://localhost:8080/"
        },
        "id": "kDZ8IV6vTgcM",
        "outputId": "2e8ac327-73b0-4ed9-aeae-201811d00c5a"
      },
      "execution_count": 12,
      "outputs": [
        {
          "output_type": "stream",
          "name": "stdout",
          "text": [
            "Time elapsed: 14.0803[sec]\n",
            "\n",
            "[['go', 'until', 'jurong', 'point', 'crazy', 'available', 'only', 'in', 'bugis', 'n', 'great', 'world', 'la', 'e', 'buffet', 'Cine', 'there', 'get', 'amore', 'wat'], ['ok', 'lar', 'Joking', 'wif', 'u', 'oni']]\n",
            "Type of token: <class 'str'>\n",
            "\n",
            "Average number of words per message: 16.310122038765254\n",
            "Five most frequent words: ['a', 'you', 'to', 'be', 'i']\n",
            "Number of words that appear once: 3903\n"
          ]
        }
      ]
    },
    {
      "cell_type": "markdown",
      "source": [
        "The outputs of both teqniques is of type <'str'>.</br>\n",
        "The processing speed of NLTK is substantially quicker than of spaCy.</br> NLTK uses a simpler and more direct implementation of lemmatization algorithms while spaCy's lemmatization process is more complex and includes additional features like POS tagging, NER, etc. to find the base forms of the text.</br>\n",
        "NLTK lemmatizes using the tokens while spaCy works on the original text (when I tried giving it the tokens from the previous question it didn't work).</br>\n",
        "In the lemmatization process, we're trying to reduce the words in the text to their root forms based on a dictionary. The running time is affected by the length of the text to be lemmatized as well as the size of the vocabulary."
      ],
      "metadata": {
        "id": "ky6PwBELK8Wo"
      }
    },
    {
      "cell_type": "code",
      "source": [
        "### Loading data from URL link ###\n",
        "url = 'https://www.rottentomatoes.com/'\n",
        "#url = ''\n",
        "response = requests.get(url)\n",
        "\n",
        "if response.status_code == 200:\n",
        "    web_content = response.text\n",
        "    #parse the HTML Content\n",
        "    soup = BeautifulSoup(web_content, 'html.parser')\n",
        "    #extract All Text\n",
        "    all_text = soup.get_text(separator='\\n', strip=True)\n",
        "    #split the text into lines\n",
        "    text_lines = all_text.split('\\n')\n",
        "    #remove empty lines\n",
        "    text_lines = [line for line in text_lines if line.strip() != \"\"]\n",
        "\n",
        "    url_df = pd.DataFrame(text_lines, columns=['Text'])\n",
        "    url_df = clean_data(url_df, 'Text')\n",
        "    print(url_df)\n",
        "else:\n",
        "    print(\"Failed to retrieve the webpage.\")"
      ],
      "metadata": {
        "colab": {
          "base_uri": "https://localhost:8080/"
        },
        "id": "3C2_wfAUUbrU",
        "outputId": "20ee6f2d-138e-44fc-d9b3-010076bee8ea"
      },
      "execution_count": 14,
      "outputs": [
        {
          "output_type": "stream",
          "name": "stdout",
          "text": [
            "                                                  Text\n",
            "0    Rotten Tomatoes Movies TV Shows Movie Trailers...\n",
            "1                                            Signed in\n",
            "2                                 Skip to Main Content\n",
            "3                                               Cancel\n",
            "4                                            Movies TV\n",
            "..                                                 ...\n",
            "650                                    Cookie Settings\n",
            "651                                  California Notice\n",
            "652                                         Ad Choices\n",
            "653                                      Accessibility\n",
            "654             Copyright Fandango All rights reserved\n",
            "\n",
            "[655 rows x 1 columns]\n"
          ]
        }
      ]
    },
    {
      "cell_type": "code",
      "source": [
        "print_basic_statistics_from_sentences(url_df['Text'])"
      ],
      "metadata": {
        "colab": {
          "base_uri": "https://localhost:8080/"
        },
        "id": "uDeMOwRDVVPs",
        "outputId": "332d2015-5c9d-4cc8-9433-68b6c233cf24"
      },
      "execution_count": 15,
      "outputs": [
        {
          "output_type": "stream",
          "name": "stdout",
          "text": [
            "Average number of words per message: 2.5389312977099237\n",
            "Five most frequent words: ['season', 'all', 'to', 'of', 'the']\n",
            "Number of words that appear once: 172\n"
          ]
        }
      ]
    },
    {
      "cell_type": "code",
      "source": [
        "### Performing Tokenization on the URL Data Using NLTK ###\n",
        "url_tokens = tokenize_using_nltk(url_df['Text'])\n",
        "print('\\n{}\\n'.format(url_tokens[0:5]))\n",
        "\n",
        "print_basic_statistics_from_sentences(token_matrix_to_string_array(url_tokens))"
      ],
      "metadata": {
        "colab": {
          "base_uri": "https://localhost:8080/"
        },
        "id": "MyFr1eWiVvPw",
        "outputId": "f764f995-cf0b-478b-cd3b-f515f9a28107"
      },
      "execution_count": 16,
      "outputs": [
        {
          "output_type": "stream",
          "name": "stdout",
          "text": [
            "Time elapsed: 0.0512[sec]\n",
            "\n",
            "[['Rotten', 'Tomatoes', 'Movies', 'TV', 'Shows', 'Movie', 'Trailers', 'Reviews', 'Rotten', 'Tomatoes'], ['Signed', 'in'], ['Skip', 'to', 'Main', 'Content'], ['Cancel'], ['Movies', 'TV']]\n",
            "\n",
            "Average number of words per message: 2.5389312977099237\n",
            "Five most frequent words: ['season', 'all', 'to', 'of', 'the']\n",
            "Number of words that appear once: 172\n"
          ]
        }
      ]
    },
    {
      "cell_type": "code",
      "source": [
        "### Performing Stemming on the URL Data Using NLTK ###\n",
        "url_stemmed = stem_using_nltk(url_tokens)\n",
        "print('\\n{}\\n'.format(url_stemmed[0:5]))\n",
        "\n",
        "print_basic_statistics_from_sentences(token_matrix_to_string_array(url_stemmed))"
      ],
      "metadata": {
        "colab": {
          "base_uri": "https://localhost:8080/"
        },
        "id": "ewFu3KQMVwzw",
        "outputId": "363f54a0-cfd0-48a9-aad8-69892f7a1a0c"
      },
      "execution_count": 17,
      "outputs": [
        {
          "output_type": "stream",
          "name": "stdout",
          "text": [
            "Time elapsed: 0.0241[sec]\n",
            "\n",
            "[['rot', 'tomato', 'movy', 'tv', 'show', 'movy', 'trail', 'review', 'rot', 'tomato'], ['sign', 'in'], ['skip', 'to', 'main', 'cont'], ['cancel'], ['movy', 'tv']]\n",
            "\n",
            "Average number of words per message: 2.5389312977099237\n",
            "Five most frequent words: ['al', 'to', 'movy', 'of', 'the']\n",
            "Number of words that appear once: 145\n"
          ]
        }
      ]
    },
    {
      "cell_type": "code",
      "source": [
        "### Performing Lemmatization on the URL Data Using NLTK ###\n",
        "url_lemmatized = lemmatize_using_nltk(url_tokens)\n",
        "print('\\n{}\\n'.format(url_lemmatized[0:5]))\n",
        "\n",
        "print_basic_statistics_from_sentences(token_matrix_to_string_array(url_lemmatized))"
      ],
      "metadata": {
        "colab": {
          "base_uri": "https://localhost:8080/"
        },
        "id": "_TKc2YjeVw_n",
        "outputId": "a17d2538-dc67-495e-965b-73f87cac8037"
      },
      "execution_count": 18,
      "outputs": [
        {
          "output_type": "stream",
          "name": "stdout",
          "text": [
            "Time elapsed: 0.0109[sec]\n",
            "\n",
            "[['Rotten', 'Tomatoes', 'Movies', 'TV', 'Shows', 'Movie', 'Trailers', 'Reviews', 'Rotten', 'Tomatoes'], ['Signed', 'in'], ['Skip', 'to', 'Main', 'Content'], ['Cancel'], ['Movies', 'TV']]\n",
            "\n",
            "Average number of words per message: 2.5389312977099237\n",
            "Five most frequent words: ['season', 'all', 'to', 'of', 'the']\n",
            "Number of words that appear once: 171\n"
          ]
        }
      ]
    },
    {
      "cell_type": "code",
      "source": [
        "### Loading data from txt file ###\n",
        "with open('whatsapp_messages.txt', 'r') as file:\n",
        "    messages = file.readlines()\n",
        "\n",
        "whatsapp_df = pd.DataFrame(messages, columns=['Messages'])\n",
        "whatsapp_df = clean_data(whatsapp_df, 'Messages')\n",
        "whatsapp_df"
      ],
      "metadata": {
        "colab": {
          "base_uri": "https://localhost:8080/",
          "height": 423
        },
        "id": "0ntSbscW5Nci",
        "outputId": "08f8324c-537f-43c4-a0b5-225a623cfc45"
      },
      "execution_count": 21,
      "outputs": [
        {
          "output_type": "execute_result",
          "data": {
            "text/plain": [
              "                                             Messages\n",
              "0   Hey team quick reminder today s meeting is at ...\n",
              "1   Does anyone have the latest sales report Need ...\n",
              "2     Happy Friday everyone Any plans for the weekend\n",
              "3   Just a heads up the printer on the 3rd floor i...\n",
              "4   Can someone review the draft proposal I just s...\n",
              "..                                                ...\n",
              "72  IT update network upgrade scheduled for this w...\n",
              "73  Congrats to the accounting team for closing th...\n",
              "74  Reminder company wide town hall meeting next T...\n",
              "75  HR update wellness program launches next week ...\n",
              "76  Need volunteers for the holiday decorating com...\n",
              "\n",
              "[77 rows x 1 columns]"
            ],
            "text/html": [
              "\n",
              "  <div id=\"df-2d033caf-b239-4e70-b3dc-572a2e4ce834\" class=\"colab-df-container\">\n",
              "    <div>\n",
              "<style scoped>\n",
              "    .dataframe tbody tr th:only-of-type {\n",
              "        vertical-align: middle;\n",
              "    }\n",
              "\n",
              "    .dataframe tbody tr th {\n",
              "        vertical-align: top;\n",
              "    }\n",
              "\n",
              "    .dataframe thead th {\n",
              "        text-align: right;\n",
              "    }\n",
              "</style>\n",
              "<table border=\"1\" class=\"dataframe\">\n",
              "  <thead>\n",
              "    <tr style=\"text-align: right;\">\n",
              "      <th></th>\n",
              "      <th>Messages</th>\n",
              "    </tr>\n",
              "  </thead>\n",
              "  <tbody>\n",
              "    <tr>\n",
              "      <th>0</th>\n",
              "      <td>Hey team quick reminder today s meeting is at ...</td>\n",
              "    </tr>\n",
              "    <tr>\n",
              "      <th>1</th>\n",
              "      <td>Does anyone have the latest sales report Need ...</td>\n",
              "    </tr>\n",
              "    <tr>\n",
              "      <th>2</th>\n",
              "      <td>Happy Friday everyone Any plans for the weekend</td>\n",
              "    </tr>\n",
              "    <tr>\n",
              "      <th>3</th>\n",
              "      <td>Just a heads up the printer on the 3rd floor i...</td>\n",
              "    </tr>\n",
              "    <tr>\n",
              "      <th>4</th>\n",
              "      <td>Can someone review the draft proposal I just s...</td>\n",
              "    </tr>\n",
              "    <tr>\n",
              "      <th>...</th>\n",
              "      <td>...</td>\n",
              "    </tr>\n",
              "    <tr>\n",
              "      <th>72</th>\n",
              "      <td>IT update network upgrade scheduled for this w...</td>\n",
              "    </tr>\n",
              "    <tr>\n",
              "      <th>73</th>\n",
              "      <td>Congrats to the accounting team for closing th...</td>\n",
              "    </tr>\n",
              "    <tr>\n",
              "      <th>74</th>\n",
              "      <td>Reminder company wide town hall meeting next T...</td>\n",
              "    </tr>\n",
              "    <tr>\n",
              "      <th>75</th>\n",
              "      <td>HR update wellness program launches next week ...</td>\n",
              "    </tr>\n",
              "    <tr>\n",
              "      <th>76</th>\n",
              "      <td>Need volunteers for the holiday decorating com...</td>\n",
              "    </tr>\n",
              "  </tbody>\n",
              "</table>\n",
              "<p>77 rows × 1 columns</p>\n",
              "</div>\n",
              "    <div class=\"colab-df-buttons\">\n",
              "\n",
              "  <div class=\"colab-df-container\">\n",
              "    <button class=\"colab-df-convert\" onclick=\"convertToInteractive('df-2d033caf-b239-4e70-b3dc-572a2e4ce834')\"\n",
              "            title=\"Convert this dataframe to an interactive table.\"\n",
              "            style=\"display:none;\">\n",
              "\n",
              "  <svg xmlns=\"http://www.w3.org/2000/svg\" height=\"24px\" viewBox=\"0 -960 960 960\">\n",
              "    <path d=\"M120-120v-720h720v720H120Zm60-500h600v-160H180v160Zm220 220h160v-160H400v160Zm0 220h160v-160H400v160ZM180-400h160v-160H180v160Zm440 0h160v-160H620v160ZM180-180h160v-160H180v160Zm440 0h160v-160H620v160Z\"/>\n",
              "  </svg>\n",
              "    </button>\n",
              "\n",
              "  <style>\n",
              "    .colab-df-container {\n",
              "      display:flex;\n",
              "      gap: 12px;\n",
              "    }\n",
              "\n",
              "    .colab-df-convert {\n",
              "      background-color: #E8F0FE;\n",
              "      border: none;\n",
              "      border-radius: 50%;\n",
              "      cursor: pointer;\n",
              "      display: none;\n",
              "      fill: #1967D2;\n",
              "      height: 32px;\n",
              "      padding: 0 0 0 0;\n",
              "      width: 32px;\n",
              "    }\n",
              "\n",
              "    .colab-df-convert:hover {\n",
              "      background-color: #E2EBFA;\n",
              "      box-shadow: 0px 1px 2px rgba(60, 64, 67, 0.3), 0px 1px 3px 1px rgba(60, 64, 67, 0.15);\n",
              "      fill: #174EA6;\n",
              "    }\n",
              "\n",
              "    .colab-df-buttons div {\n",
              "      margin-bottom: 4px;\n",
              "    }\n",
              "\n",
              "    [theme=dark] .colab-df-convert {\n",
              "      background-color: #3B4455;\n",
              "      fill: #D2E3FC;\n",
              "    }\n",
              "\n",
              "    [theme=dark] .colab-df-convert:hover {\n",
              "      background-color: #434B5C;\n",
              "      box-shadow: 0px 1px 3px 1px rgba(0, 0, 0, 0.15);\n",
              "      filter: drop-shadow(0px 1px 2px rgba(0, 0, 0, 0.3));\n",
              "      fill: #FFFFFF;\n",
              "    }\n",
              "  </style>\n",
              "\n",
              "    <script>\n",
              "      const buttonEl =\n",
              "        document.querySelector('#df-2d033caf-b239-4e70-b3dc-572a2e4ce834 button.colab-df-convert');\n",
              "      buttonEl.style.display =\n",
              "        google.colab.kernel.accessAllowed ? 'block' : 'none';\n",
              "\n",
              "      async function convertToInteractive(key) {\n",
              "        const element = document.querySelector('#df-2d033caf-b239-4e70-b3dc-572a2e4ce834');\n",
              "        const dataTable =\n",
              "          await google.colab.kernel.invokeFunction('convertToInteractive',\n",
              "                                                    [key], {});\n",
              "        if (!dataTable) return;\n",
              "\n",
              "        const docLinkHtml = 'Like what you see? Visit the ' +\n",
              "          '<a target=\"_blank\" href=https://colab.research.google.com/notebooks/data_table.ipynb>data table notebook</a>'\n",
              "          + ' to learn more about interactive tables.';\n",
              "        element.innerHTML = '';\n",
              "        dataTable['output_type'] = 'display_data';\n",
              "        await google.colab.output.renderOutput(dataTable, element);\n",
              "        const docLink = document.createElement('div');\n",
              "        docLink.innerHTML = docLinkHtml;\n",
              "        element.appendChild(docLink);\n",
              "      }\n",
              "    </script>\n",
              "  </div>\n",
              "\n",
              "\n",
              "<div id=\"df-c79a04ae-3cbe-4e41-bffc-9f855c3650c1\">\n",
              "  <button class=\"colab-df-quickchart\" onclick=\"quickchart('df-c79a04ae-3cbe-4e41-bffc-9f855c3650c1')\"\n",
              "            title=\"Suggest charts\"\n",
              "            style=\"display:none;\">\n",
              "\n",
              "<svg xmlns=\"http://www.w3.org/2000/svg\" height=\"24px\"viewBox=\"0 0 24 24\"\n",
              "     width=\"24px\">\n",
              "    <g>\n",
              "        <path d=\"M19 3H5c-1.1 0-2 .9-2 2v14c0 1.1.9 2 2 2h14c1.1 0 2-.9 2-2V5c0-1.1-.9-2-2-2zM9 17H7v-7h2v7zm4 0h-2V7h2v10zm4 0h-2v-4h2v4z\"/>\n",
              "    </g>\n",
              "</svg>\n",
              "  </button>\n",
              "\n",
              "<style>\n",
              "  .colab-df-quickchart {\n",
              "      --bg-color: #E8F0FE;\n",
              "      --fill-color: #1967D2;\n",
              "      --hover-bg-color: #E2EBFA;\n",
              "      --hover-fill-color: #174EA6;\n",
              "      --disabled-fill-color: #AAA;\n",
              "      --disabled-bg-color: #DDD;\n",
              "  }\n",
              "\n",
              "  [theme=dark] .colab-df-quickchart {\n",
              "      --bg-color: #3B4455;\n",
              "      --fill-color: #D2E3FC;\n",
              "      --hover-bg-color: #434B5C;\n",
              "      --hover-fill-color: #FFFFFF;\n",
              "      --disabled-bg-color: #3B4455;\n",
              "      --disabled-fill-color: #666;\n",
              "  }\n",
              "\n",
              "  .colab-df-quickchart {\n",
              "    background-color: var(--bg-color);\n",
              "    border: none;\n",
              "    border-radius: 50%;\n",
              "    cursor: pointer;\n",
              "    display: none;\n",
              "    fill: var(--fill-color);\n",
              "    height: 32px;\n",
              "    padding: 0;\n",
              "    width: 32px;\n",
              "  }\n",
              "\n",
              "  .colab-df-quickchart:hover {\n",
              "    background-color: var(--hover-bg-color);\n",
              "    box-shadow: 0 1px 2px rgba(60, 64, 67, 0.3), 0 1px 3px 1px rgba(60, 64, 67, 0.15);\n",
              "    fill: var(--button-hover-fill-color);\n",
              "  }\n",
              "\n",
              "  .colab-df-quickchart-complete:disabled,\n",
              "  .colab-df-quickchart-complete:disabled:hover {\n",
              "    background-color: var(--disabled-bg-color);\n",
              "    fill: var(--disabled-fill-color);\n",
              "    box-shadow: none;\n",
              "  }\n",
              "\n",
              "  .colab-df-spinner {\n",
              "    border: 2px solid var(--fill-color);\n",
              "    border-color: transparent;\n",
              "    border-bottom-color: var(--fill-color);\n",
              "    animation:\n",
              "      spin 1s steps(1) infinite;\n",
              "  }\n",
              "\n",
              "  @keyframes spin {\n",
              "    0% {\n",
              "      border-color: transparent;\n",
              "      border-bottom-color: var(--fill-color);\n",
              "      border-left-color: var(--fill-color);\n",
              "    }\n",
              "    20% {\n",
              "      border-color: transparent;\n",
              "      border-left-color: var(--fill-color);\n",
              "      border-top-color: var(--fill-color);\n",
              "    }\n",
              "    30% {\n",
              "      border-color: transparent;\n",
              "      border-left-color: var(--fill-color);\n",
              "      border-top-color: var(--fill-color);\n",
              "      border-right-color: var(--fill-color);\n",
              "    }\n",
              "    40% {\n",
              "      border-color: transparent;\n",
              "      border-right-color: var(--fill-color);\n",
              "      border-top-color: var(--fill-color);\n",
              "    }\n",
              "    60% {\n",
              "      border-color: transparent;\n",
              "      border-right-color: var(--fill-color);\n",
              "    }\n",
              "    80% {\n",
              "      border-color: transparent;\n",
              "      border-right-color: var(--fill-color);\n",
              "      border-bottom-color: var(--fill-color);\n",
              "    }\n",
              "    90% {\n",
              "      border-color: transparent;\n",
              "      border-bottom-color: var(--fill-color);\n",
              "    }\n",
              "  }\n",
              "</style>\n",
              "\n",
              "  <script>\n",
              "    async function quickchart(key) {\n",
              "      const quickchartButtonEl =\n",
              "        document.querySelector('#' + key + ' button');\n",
              "      quickchartButtonEl.disabled = true;  // To prevent multiple clicks.\n",
              "      quickchartButtonEl.classList.add('colab-df-spinner');\n",
              "      try {\n",
              "        const charts = await google.colab.kernel.invokeFunction(\n",
              "            'suggestCharts', [key], {});\n",
              "      } catch (error) {\n",
              "        console.error('Error during call to suggestCharts:', error);\n",
              "      }\n",
              "      quickchartButtonEl.classList.remove('colab-df-spinner');\n",
              "      quickchartButtonEl.classList.add('colab-df-quickchart-complete');\n",
              "    }\n",
              "    (() => {\n",
              "      let quickchartButtonEl =\n",
              "        document.querySelector('#df-c79a04ae-3cbe-4e41-bffc-9f855c3650c1 button');\n",
              "      quickchartButtonEl.style.display =\n",
              "        google.colab.kernel.accessAllowed ? 'block' : 'none';\n",
              "    })();\n",
              "  </script>\n",
              "</div>\n",
              "\n",
              "  <div id=\"id_e648aeda-0e97-460a-aca8-2349270c045a\">\n",
              "    <style>\n",
              "      .colab-df-generate {\n",
              "        background-color: #E8F0FE;\n",
              "        border: none;\n",
              "        border-radius: 50%;\n",
              "        cursor: pointer;\n",
              "        display: none;\n",
              "        fill: #1967D2;\n",
              "        height: 32px;\n",
              "        padding: 0 0 0 0;\n",
              "        width: 32px;\n",
              "      }\n",
              "\n",
              "      .colab-df-generate:hover {\n",
              "        background-color: #E2EBFA;\n",
              "        box-shadow: 0px 1px 2px rgba(60, 64, 67, 0.3), 0px 1px 3px 1px rgba(60, 64, 67, 0.15);\n",
              "        fill: #174EA6;\n",
              "      }\n",
              "\n",
              "      [theme=dark] .colab-df-generate {\n",
              "        background-color: #3B4455;\n",
              "        fill: #D2E3FC;\n",
              "      }\n",
              "\n",
              "      [theme=dark] .colab-df-generate:hover {\n",
              "        background-color: #434B5C;\n",
              "        box-shadow: 0px 1px 3px 1px rgba(0, 0, 0, 0.15);\n",
              "        filter: drop-shadow(0px 1px 2px rgba(0, 0, 0, 0.3));\n",
              "        fill: #FFFFFF;\n",
              "      }\n",
              "    </style>\n",
              "    <button class=\"colab-df-generate\" onclick=\"generateWithVariable('whatsapp_df')\"\n",
              "            title=\"Generate code using this dataframe.\"\n",
              "            style=\"display:none;\">\n",
              "\n",
              "  <svg xmlns=\"http://www.w3.org/2000/svg\" height=\"24px\"viewBox=\"0 0 24 24\"\n",
              "       width=\"24px\">\n",
              "    <path d=\"M7,19H8.4L18.45,9,17,7.55,7,17.6ZM5,21V16.75L18.45,3.32a2,2,0,0,1,2.83,0l1.4,1.43a1.91,1.91,0,0,1,.58,1.4,1.91,1.91,0,0,1-.58,1.4L9.25,21ZM18.45,9,17,7.55Zm-12,3A5.31,5.31,0,0,0,4.9,8.1,5.31,5.31,0,0,0,1,6.5,5.31,5.31,0,0,0,4.9,4.9,5.31,5.31,0,0,0,6.5,1,5.31,5.31,0,0,0,8.1,4.9,5.31,5.31,0,0,0,12,6.5,5.46,5.46,0,0,0,6.5,12Z\"/>\n",
              "  </svg>\n",
              "    </button>\n",
              "    <script>\n",
              "      (() => {\n",
              "      const buttonEl =\n",
              "        document.querySelector('#id_e648aeda-0e97-460a-aca8-2349270c045a button.colab-df-generate');\n",
              "      buttonEl.style.display =\n",
              "        google.colab.kernel.accessAllowed ? 'block' : 'none';\n",
              "\n",
              "      buttonEl.onclick = () => {\n",
              "        google.colab.notebook.generateWithVariable('whatsapp_df');\n",
              "      }\n",
              "      })();\n",
              "    </script>\n",
              "  </div>\n",
              "\n",
              "    </div>\n",
              "  </div>\n"
            ],
            "application/vnd.google.colaboratory.intrinsic+json": {
              "type": "dataframe",
              "variable_name": "whatsapp_df",
              "summary": "{\n  \"name\": \"whatsapp_df\",\n  \"rows\": 77,\n  \"fields\": [\n    {\n      \"column\": \"Messages\",\n      \"properties\": {\n        \"dtype\": \"string\",\n        \"num_unique_values\": 77,\n        \"samples\": [\n          \"Can someone review the draft proposal I just sent over\",\n          \"Is anyone free for a quick coffee catch up this afternoon\",\n          \"Emergency maintenance in the building today expect some disruptions\"\n        ],\n        \"semantic_type\": \"\",\n        \"description\": \"\"\n      }\n    }\n  ]\n}"
            }
          },
          "metadata": {},
          "execution_count": 21
        }
      ]
    },
    {
      "cell_type": "code",
      "source": [
        "print_basic_statistics_from_sentences(whatsapp_df['Messages'])"
      ],
      "metadata": {
        "colab": {
          "base_uri": "https://localhost:8080/"
        },
        "id": "hW6lXrOP58mJ",
        "outputId": "8cb4ff89-bf4b-4f11-f0f2-056f74d6164b"
      },
      "execution_count": 22,
      "outputs": [
        {
          "output_type": "stream",
          "name": "stdout",
          "text": [
            "Average number of words per message: 11.623376623376624\n",
            "Five most frequent words: ['next', 'reminder', 'to', 'for', 'the']\n",
            "Number of words that appear once: 257\n"
          ]
        }
      ]
    },
    {
      "cell_type": "code",
      "source": [
        "### Performing Tokenization on the Whatsapp Data Using NLTK ###\n",
        "whatsapp_tokens = tokenize_using_nltk(whatsapp_df['Messages'])\n",
        "print('\\n{}\\n'.format(whatsapp_tokens[0:5]))\n",
        "\n",
        "print_basic_statistics_from_sentences(token_matrix_to_string_array(whatsapp_tokens))"
      ],
      "metadata": {
        "colab": {
          "base_uri": "https://localhost:8080/"
        },
        "id": "laq5n-WE6CpK",
        "outputId": "9acf479e-7978-4f19-93df-a2cf64756497"
      },
      "execution_count": 23,
      "outputs": [
        {
          "output_type": "stream",
          "name": "stdout",
          "text": [
            "Time elapsed: 0.013[sec]\n",
            "\n",
            "[['Hey', 'team', 'quick', 'reminder', 'today', 's', 'meeting', 'is', 'at', '10', 'AM', 'in', 'Conference', 'Room', 'A'], ['Does', 'anyone', 'have', 'the', 'latest', 'sales', 'report', 'Need', 'it', 'for', 'the', 'presentation'], ['Happy', 'Friday', 'everyone', 'Any', 'plans', 'for', 'the', 'weekend'], ['Just', 'a', 'heads', 'up', 'the', 'printer', 'on', 'the', '3rd', 'floor', 'is', 'out', 'of', 'toner', 'again'], ['Can', 'someone', 'review', 'the', 'draft', 'proposal', 'I', 'just', 'sent', 'over']]\n",
            "\n",
            "Average number of words per message: 11.623376623376624\n",
            "Five most frequent words: ['next', 'reminder', 'to', 'for', 'the']\n",
            "Number of words that appear once: 257\n"
          ]
        }
      ]
    },
    {
      "cell_type": "code",
      "source": [
        "### Performing Stemming on the Whatsapp Data Using NLTK ###\n",
        "whatsapp_stemmed = stem_using_nltk(whatsapp_tokens)\n",
        "print('\\n{}\\n'.format(whatsapp_stemmed[0:5]))\n",
        "\n",
        "print_basic_statistics_from_sentences(token_matrix_to_string_array(whatsapp_stemmed))"
      ],
      "metadata": {
        "colab": {
          "base_uri": "https://localhost:8080/"
        },
        "id": "QCV7-U8z6Dey",
        "outputId": "5a260168-cc4d-42e8-a9a3-635d89ff830b"
      },
      "execution_count": 24,
      "outputs": [
        {
          "output_type": "stream",
          "name": "stdout",
          "text": [
            "Time elapsed: 0.0191[sec]\n",
            "\n",
            "[['hey', 'team', 'quick', 'remind', 'today', 's', 'meet', 'is', 'at', '10', 'am', 'in', 'conf', 'room', 'a'], ['doe', 'anyon', 'hav', 'the', 'latest', 'sal', 'report', 'nee', 'it', 'for', 'the', 'pres'], ['happy', 'friday', 'everyon', 'any', 'plan', 'for', 'the', 'weekend'], ['just', 'a', 'head', 'up', 'the', 'print', 'on', 'the', '3rd', 'flo', 'is', 'out', 'of', 'ton', 'again'], ['can', 'someon', 'review', 'the', 'draft', 'propos', 'i', 'just', 'sent', 'ov']]\n",
            "\n",
            "Average number of words per message: 11.623376623376624\n",
            "Five most frequent words: ['next', 'remind', 'to', 'for', 'the']\n",
            "Number of words that appear once: 220\n"
          ]
        }
      ]
    },
    {
      "cell_type": "code",
      "source": [
        "### Performing Lemmatization on the Whatsapp Data Using NLTK ###\n",
        "whatsapp_lemmatized = lemmatize_using_nltk(whatsapp_tokens)\n",
        "print('\\n{}\\n'.format(whatsapp_lemmatized[0:5]))\n",
        "\n",
        "print_basic_statistics_from_sentences(token_matrix_to_string_array(whatsapp_lemmatized))"
      ],
      "metadata": {
        "colab": {
          "base_uri": "https://localhost:8080/"
        },
        "id": "PZ1Fi4HK6D10",
        "outputId": "76ac941c-c77f-4f03-f659-9ded08313d99"
      },
      "execution_count": 26,
      "outputs": [
        {
          "output_type": "stream",
          "name": "stdout",
          "text": [
            "Time elapsed: 0.0053[sec]\n",
            "\n",
            "[['Hey', 'team', 'quick', 'reminder', 'today', 's', 'meeting', 'is', 'at', '10', 'AM', 'in', 'Conference', 'Room', 'A'], ['Does', 'anyone', 'have', 'the', 'latest', 'sale', 'report', 'Need', 'it', 'for', 'the', 'presentation'], ['Happy', 'Friday', 'everyone', 'Any', 'plan', 'for', 'the', 'weekend'], ['Just', 'a', 'head', 'up', 'the', 'printer', 'on', 'the', '3rd', 'floor', 'is', 'out', 'of', 'toner', 'again'], ['Can', 'someone', 'review', 'the', 'draft', 'proposal', 'I', 'just', 'sent', 'over']]\n",
            "\n",
            "Average number of words per message: 11.623376623376624\n",
            "Five most frequent words: ['next', 'reminder', 'to', 'for', 'the']\n",
            "Number of words that appear once: 245\n"
          ]
        }
      ]
    },
    {
      "cell_type": "markdown",
      "source": [
        "The solution for the whatsapp messages is done in English because I couldn't find a stemming/lemmatization implementation for Hebrew."
      ],
      "metadata": {
        "id": "y4OBZEOnCY7W"
      }
    }
  ]
}