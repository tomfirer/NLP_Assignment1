{
  "nbformat": 4,
  "nbformat_minor": 0,
  "metadata": {
    "colab": {
      "provenance": [],
      "authorship_tag": "ABX9TyMN0AI/qUOCNrWtDHtIC6FZ",
      "include_colab_link": true
    },
    "kernelspec": {
      "name": "python3",
      "display_name": "Python 3"
    },
    "language_info": {
      "name": "python"
    }
  },
  "cells": [
    {
      "cell_type": "markdown",
      "metadata": {
        "id": "view-in-github",
        "colab_type": "text"
      },
      "source": [
        "<a href=\"https://colab.research.google.com/github/tomfirer/NLP_Assignment1/blob/main/NLP_Assignment1.ipynb\" target=\"_parent\"><img src=\"https://colab.research.google.com/assets/colab-badge.svg\" alt=\"Open In Colab\"/></a>"
      ]
    },
    {
      "cell_type": "code",
      "execution_count": 1,
      "metadata": {
        "id": "V98qIkzjz9VA",
        "colab": {
          "base_uri": "https://localhost:8080/"
        },
        "outputId": "8350a31f-1001-46da-c9f2-277071bfe633"
      },
      "outputs": [
        {
          "output_type": "stream",
          "name": "stderr",
          "text": [
            "[nltk_data] Downloading package punkt to /root/nltk_data...\n",
            "[nltk_data]   Unzipping tokenizers/punkt.zip.\n",
            "[nltk_data] Downloading package stopwords to /root/nltk_data...\n",
            "[nltk_data]   Unzipping corpora/stopwords.zip.\n",
            "[nltk_data] Downloading package wordnet to /root/nltk_data...\n"
          ]
        }
      ],
      "source": [
        "#imports\n",
        "import pandas as pd\n",
        "import numpy as np\n",
        "import sklearn\n",
        "from sklearn.feature_extraction.text import CountVectorizer\n",
        "import time\n",
        "\n",
        "import nltk\n",
        "from nltk.stem import LancasterStemmer\n",
        "from nltk.stem import WordNetLemmatizer\n",
        "from nltk.tokenize import RegexpTokenizer\n",
        "\n",
        "nltk.download('punkt')\n",
        "nltk.download('stopwords')\n",
        "nltk.download('wordnet')\n",
        "\n",
        "import spacy\n",
        "from spacy.tokenizer import Tokenizer\n",
        "from spacy.lang.en import English\n",
        "\n",
        "import requests\n",
        "from bs4 import BeautifulSoup"
      ]
    },
    {
      "cell_type": "code",
      "source": [
        "def print_basic_statistics_from_df(df):\n",
        "  print('----- Basic Statistics -----')\n",
        "  print('Number of messages: {}'.format(df.shape[0]))\n",
        "  print('\\tHam messages: {}'.format(df['v1'].value_counts()['ham']))\n",
        "  print('\\tSpam messages: {}'.format(df['v1'].value_counts()['spam']))\n",
        "  print_basic_statistics_from_sentences(df['v2'])\n",
        "\n",
        "\n",
        "def print_basic_statistics_from_sentences(string_arr):\n",
        "  print('Average number of words per message: {}'.format(get_average_number_of_words(string_arr)))\n",
        "  word_frequency_info = get_word_frequency_info(string_arr)\n",
        "  print('Five most frequent words: {}'.format(get_five_most_frequent_words(word_frequency_info)))\n",
        "  print('Number of words that appear once: {}'.format(get_number_of_unique_words(word_frequency_info)))\n",
        "\n",
        "\n",
        "def get_average_number_of_words(string_arr):\n",
        "  num_of_words = [count_num_of_words(s) for s in string_arr]\n",
        "  return sum(num_of_words)/len(num_of_words)\n",
        "\n",
        "\n",
        "def get_word_frequency_info(string_arr):\n",
        "  corpus = np.array(string_arr)\n",
        "  vectorizer = CountVectorizer(tokenizer=lambda x: x.split(), token_pattern=None)\n",
        "  X = vectorizer.fit_transform(corpus)\n",
        "  words = vectorizer.get_feature_names_out()\n",
        "  frequencies = np.sum(np.array(X.toarray()), axis=0)\n",
        "  return (words, frequencies)\n",
        "\n",
        "\n",
        "def get_number_of_unique_words(word_frequency_info):\n",
        "  return list(word_frequency_info[1]).count(1)\n",
        "\n",
        "\n",
        "def get_five_most_frequent_words(word_frequency_info):\n",
        "  words = word_frequency_info[0]\n",
        "  frequencies = word_frequency_info[1]\n",
        "\n",
        "  frequency_and_index_tupples = list(zip(frequencies, range(len(frequencies))))\n",
        "  sorted_frequency_and_index_tupples = sorted(frequency_and_index_tupples, key = lambda tup: tup[0])\n",
        "  five_most_frequent_tupple = sorted_frequency_and_index_tupples[-5:len(sorted_frequency_and_index_tupples)]\n",
        "  five_most_frequent_indices = [tup[1] for tup in five_most_frequent_tupple]\n",
        "  five_most_frequent_words = [words[i] for i in five_most_frequent_indices]\n",
        "  return five_most_frequent_words\n",
        "\n",
        "\n",
        "def count_num_of_words(string):\n",
        "  if string.strip == \"\":\n",
        "    return 0\n",
        "  return len(string.split())\n",
        "\n",
        "\n",
        "def clean_data(df, column):\n",
        "  # list of strings\n",
        "  document = df[column]\n",
        "  # list of list of tokens\n",
        "  token_mat = [nltk.word_tokenize(token_arr) for token_arr in document]\n",
        "  # remove stopwords from matrix of tokens\n",
        "  stopwords = nltk.corpus.stopwords.words('english')\n",
        "  filtered_tokens = [[token.lower() for token in token_arr if token.lower() not in stopwords and token.isalpha()] for token_arr in token_mat]\n",
        "  # replace original column with new filtered column\n",
        "  df[column] = [' '.join(token_arr) for token_arr in filtered_tokens]\n",
        "  return df\n",
        "\n",
        "\n",
        "  #receives an array of sentenecs and returns a matrix of tokens\n",
        "def tokenize_using_nltk(sentence_arr):\n",
        "  result_tokens_array = []\n",
        "  start_time = time.time()\n",
        "\n",
        "  for sentence in sentence_arr:\n",
        "    result_tokens_array.append(nltk.word_tokenize(sentence))\n",
        "  print('Time elapsed: {}[sec]'.format(np.round((time.time() - start_time), decimals = 4)))\n",
        "\n",
        "  return result_tokens_array\n",
        "\n",
        "\n",
        "#receives an array of sentenecs and returns a matrix of tokens\n",
        "def tokenize_using_spacy(sentence_arr):\n",
        "  nlp = English()\n",
        "  tokenizer = Tokenizer(nlp.vocab)\n",
        "  result_tokens_array = []\n",
        "  start_time = time.time()\n",
        "\n",
        "  for sentence in sentence_arr:\n",
        "    result_tokens_array.append(list(tokenizer(sentence)))\n",
        "  print('Time elapsed: {}[sec]'.format(np.round((time.time() - start_time), decimals = 4)))\n",
        "\n",
        "  return result_tokens_array\n",
        "\n",
        "\n",
        "def stem_using_nltk(token_mat):\n",
        "  stemming_res = []\n",
        "  ls = LancasterStemmer()\n",
        "  start_time = time.time()\n",
        "\n",
        "  for s in token_mat:\n",
        "    stemming_res.append([ls.stem(token) for token in s])\n",
        "\n",
        "  print('Time elapsed: {}[sec]'.format(np.round((time.time() - start_time), decimals = 4)))\n",
        "  return stemming_res\n",
        "\n",
        "\n",
        "#turns a matrix of tokens into an array of strings\n",
        "def token_matrix_to_string_array(mat):\n",
        "  return [' '.join([str(x) for x in token_arr]) for token_arr in mat]\n",
        "\n",
        "\n",
        "def lemmatize_using_nltk(token_mat):\n",
        "  lemmatizer = WordNetLemmatizer()\n",
        "  lemmatized_res = []\n",
        "  start_time = time.time()\n",
        "\n",
        "  for s in token_mat:\n",
        "    lemmatized_res.append([lemmatizer.lemmatize(token) for token in s])\n",
        "\n",
        "  print('Time elapsed: {}[sec]'.format(np.round((time.time() - start_time), decimals = 4)))\n",
        "  return lemmatized_res\n",
        "\n",
        "\n",
        "def lemmatize_using_spacy(string_arr):\n",
        "  nlp = spacy.load(\"en_core_web_sm\")\n",
        "  lemmatized_res = []\n",
        "  start_time = time.time()\n",
        "\n",
        "  for doc in nlp.pipe(string_arr):\n",
        "    lemmatized_res.append([token.lemma_ for token in doc])\n",
        "\n",
        "  print('Time elapsed: {}[sec]'.format(np.round((time.time() - start_time), decimals = 4)))\n",
        "  return lemmatized_res"
      ],
      "metadata": {
        "id": "xbOMbefk9A6I"
      },
      "execution_count": 2,
      "outputs": []
    },
    {
      "cell_type": "code",
      "source": [
        "spam_df = pd.read_csv(\"/content/spam.csv\", encoding = \"ISO-8859-1\")\n",
        "spam_df = spam_df.drop(spam_df.columns[[2, 3, 4]], axis = 'columns')\n",
        "spam_df = clean_data(spam_df, 'v2')\n",
        "spam_df"
      ],
      "metadata": {
        "id": "MIyQJdhD1RhB",
        "colab": {
          "base_uri": "https://localhost:8080/",
          "height": 423
        },
        "outputId": "90b8739b-e8c8-4e51-8f63-7d65f680a379"
      },
      "execution_count": 3,
      "outputs": [
        {
          "output_type": "execute_result",
          "data": {
            "text/plain": [
              "        v1                                                 v2\n",
              "0      ham  go jurong point crazy available bugis n great ...\n",
              "1      ham                            ok lar joking wif u oni\n",
              "2     spam  free entry wkly comp win fa cup final tkts may...\n",
              "3      ham                u dun say early hor u c already say\n",
              "4      ham             nah think goes usf lives around though\n",
              "...    ...                                                ...\n",
              "5567  spam  time tried contact u pound prize claim easy ca...\n",
              "5568   ham                          b going esplanade fr home\n",
              "5569   ham                              pity mood suggestions\n",
              "5570   ham  guy bitching acted like interested buying some...\n",
              "5571   ham                                     rofl true name\n",
              "\n",
              "[5572 rows x 2 columns]"
            ],
            "text/html": [
              "\n",
              "  <div id=\"df-f6deb006-637d-4feb-b1c1-c608678c5fd6\" class=\"colab-df-container\">\n",
              "    <div>\n",
              "<style scoped>\n",
              "    .dataframe tbody tr th:only-of-type {\n",
              "        vertical-align: middle;\n",
              "    }\n",
              "\n",
              "    .dataframe tbody tr th {\n",
              "        vertical-align: top;\n",
              "    }\n",
              "\n",
              "    .dataframe thead th {\n",
              "        text-align: right;\n",
              "    }\n",
              "</style>\n",
              "<table border=\"1\" class=\"dataframe\">\n",
              "  <thead>\n",
              "    <tr style=\"text-align: right;\">\n",
              "      <th></th>\n",
              "      <th>v1</th>\n",
              "      <th>v2</th>\n",
              "    </tr>\n",
              "  </thead>\n",
              "  <tbody>\n",
              "    <tr>\n",
              "      <th>0</th>\n",
              "      <td>ham</td>\n",
              "      <td>go jurong point crazy available bugis n great ...</td>\n",
              "    </tr>\n",
              "    <tr>\n",
              "      <th>1</th>\n",
              "      <td>ham</td>\n",
              "      <td>ok lar joking wif u oni</td>\n",
              "    </tr>\n",
              "    <tr>\n",
              "      <th>2</th>\n",
              "      <td>spam</td>\n",
              "      <td>free entry wkly comp win fa cup final tkts may...</td>\n",
              "    </tr>\n",
              "    <tr>\n",
              "      <th>3</th>\n",
              "      <td>ham</td>\n",
              "      <td>u dun say early hor u c already say</td>\n",
              "    </tr>\n",
              "    <tr>\n",
              "      <th>4</th>\n",
              "      <td>ham</td>\n",
              "      <td>nah think goes usf lives around though</td>\n",
              "    </tr>\n",
              "    <tr>\n",
              "      <th>...</th>\n",
              "      <td>...</td>\n",
              "      <td>...</td>\n",
              "    </tr>\n",
              "    <tr>\n",
              "      <th>5567</th>\n",
              "      <td>spam</td>\n",
              "      <td>time tried contact u pound prize claim easy ca...</td>\n",
              "    </tr>\n",
              "    <tr>\n",
              "      <th>5568</th>\n",
              "      <td>ham</td>\n",
              "      <td>b going esplanade fr home</td>\n",
              "    </tr>\n",
              "    <tr>\n",
              "      <th>5569</th>\n",
              "      <td>ham</td>\n",
              "      <td>pity mood suggestions</td>\n",
              "    </tr>\n",
              "    <tr>\n",
              "      <th>5570</th>\n",
              "      <td>ham</td>\n",
              "      <td>guy bitching acted like interested buying some...</td>\n",
              "    </tr>\n",
              "    <tr>\n",
              "      <th>5571</th>\n",
              "      <td>ham</td>\n",
              "      <td>rofl true name</td>\n",
              "    </tr>\n",
              "  </tbody>\n",
              "</table>\n",
              "<p>5572 rows × 2 columns</p>\n",
              "</div>\n",
              "    <div class=\"colab-df-buttons\">\n",
              "\n",
              "  <div class=\"colab-df-container\">\n",
              "    <button class=\"colab-df-convert\" onclick=\"convertToInteractive('df-f6deb006-637d-4feb-b1c1-c608678c5fd6')\"\n",
              "            title=\"Convert this dataframe to an interactive table.\"\n",
              "            style=\"display:none;\">\n",
              "\n",
              "  <svg xmlns=\"http://www.w3.org/2000/svg\" height=\"24px\" viewBox=\"0 -960 960 960\">\n",
              "    <path d=\"M120-120v-720h720v720H120Zm60-500h600v-160H180v160Zm220 220h160v-160H400v160Zm0 220h160v-160H400v160ZM180-400h160v-160H180v160Zm440 0h160v-160H620v160ZM180-180h160v-160H180v160Zm440 0h160v-160H620v160Z\"/>\n",
              "  </svg>\n",
              "    </button>\n",
              "\n",
              "  <style>\n",
              "    .colab-df-container {\n",
              "      display:flex;\n",
              "      gap: 12px;\n",
              "    }\n",
              "\n",
              "    .colab-df-convert {\n",
              "      background-color: #E8F0FE;\n",
              "      border: none;\n",
              "      border-radius: 50%;\n",
              "      cursor: pointer;\n",
              "      display: none;\n",
              "      fill: #1967D2;\n",
              "      height: 32px;\n",
              "      padding: 0 0 0 0;\n",
              "      width: 32px;\n",
              "    }\n",
              "\n",
              "    .colab-df-convert:hover {\n",
              "      background-color: #E2EBFA;\n",
              "      box-shadow: 0px 1px 2px rgba(60, 64, 67, 0.3), 0px 1px 3px 1px rgba(60, 64, 67, 0.15);\n",
              "      fill: #174EA6;\n",
              "    }\n",
              "\n",
              "    .colab-df-buttons div {\n",
              "      margin-bottom: 4px;\n",
              "    }\n",
              "\n",
              "    [theme=dark] .colab-df-convert {\n",
              "      background-color: #3B4455;\n",
              "      fill: #D2E3FC;\n",
              "    }\n",
              "\n",
              "    [theme=dark] .colab-df-convert:hover {\n",
              "      background-color: #434B5C;\n",
              "      box-shadow: 0px 1px 3px 1px rgba(0, 0, 0, 0.15);\n",
              "      filter: drop-shadow(0px 1px 2px rgba(0, 0, 0, 0.3));\n",
              "      fill: #FFFFFF;\n",
              "    }\n",
              "  </style>\n",
              "\n",
              "    <script>\n",
              "      const buttonEl =\n",
              "        document.querySelector('#df-f6deb006-637d-4feb-b1c1-c608678c5fd6 button.colab-df-convert');\n",
              "      buttonEl.style.display =\n",
              "        google.colab.kernel.accessAllowed ? 'block' : 'none';\n",
              "\n",
              "      async function convertToInteractive(key) {\n",
              "        const element = document.querySelector('#df-f6deb006-637d-4feb-b1c1-c608678c5fd6');\n",
              "        const dataTable =\n",
              "          await google.colab.kernel.invokeFunction('convertToInteractive',\n",
              "                                                    [key], {});\n",
              "        if (!dataTable) return;\n",
              "\n",
              "        const docLinkHtml = 'Like what you see? Visit the ' +\n",
              "          '<a target=\"_blank\" href=https://colab.research.google.com/notebooks/data_table.ipynb>data table notebook</a>'\n",
              "          + ' to learn more about interactive tables.';\n",
              "        element.innerHTML = '';\n",
              "        dataTable['output_type'] = 'display_data';\n",
              "        await google.colab.output.renderOutput(dataTable, element);\n",
              "        const docLink = document.createElement('div');\n",
              "        docLink.innerHTML = docLinkHtml;\n",
              "        element.appendChild(docLink);\n",
              "      }\n",
              "    </script>\n",
              "  </div>\n",
              "\n",
              "\n",
              "<div id=\"df-d20a8e4b-4589-49f0-88a9-5b05b2ab4ee1\">\n",
              "  <button class=\"colab-df-quickchart\" onclick=\"quickchart('df-d20a8e4b-4589-49f0-88a9-5b05b2ab4ee1')\"\n",
              "            title=\"Suggest charts\"\n",
              "            style=\"display:none;\">\n",
              "\n",
              "<svg xmlns=\"http://www.w3.org/2000/svg\" height=\"24px\"viewBox=\"0 0 24 24\"\n",
              "     width=\"24px\">\n",
              "    <g>\n",
              "        <path d=\"M19 3H5c-1.1 0-2 .9-2 2v14c0 1.1.9 2 2 2h14c1.1 0 2-.9 2-2V5c0-1.1-.9-2-2-2zM9 17H7v-7h2v7zm4 0h-2V7h2v10zm4 0h-2v-4h2v4z\"/>\n",
              "    </g>\n",
              "</svg>\n",
              "  </button>\n",
              "\n",
              "<style>\n",
              "  .colab-df-quickchart {\n",
              "      --bg-color: #E8F0FE;\n",
              "      --fill-color: #1967D2;\n",
              "      --hover-bg-color: #E2EBFA;\n",
              "      --hover-fill-color: #174EA6;\n",
              "      --disabled-fill-color: #AAA;\n",
              "      --disabled-bg-color: #DDD;\n",
              "  }\n",
              "\n",
              "  [theme=dark] .colab-df-quickchart {\n",
              "      --bg-color: #3B4455;\n",
              "      --fill-color: #D2E3FC;\n",
              "      --hover-bg-color: #434B5C;\n",
              "      --hover-fill-color: #FFFFFF;\n",
              "      --disabled-bg-color: #3B4455;\n",
              "      --disabled-fill-color: #666;\n",
              "  }\n",
              "\n",
              "  .colab-df-quickchart {\n",
              "    background-color: var(--bg-color);\n",
              "    border: none;\n",
              "    border-radius: 50%;\n",
              "    cursor: pointer;\n",
              "    display: none;\n",
              "    fill: var(--fill-color);\n",
              "    height: 32px;\n",
              "    padding: 0;\n",
              "    width: 32px;\n",
              "  }\n",
              "\n",
              "  .colab-df-quickchart:hover {\n",
              "    background-color: var(--hover-bg-color);\n",
              "    box-shadow: 0 1px 2px rgba(60, 64, 67, 0.3), 0 1px 3px 1px rgba(60, 64, 67, 0.15);\n",
              "    fill: var(--button-hover-fill-color);\n",
              "  }\n",
              "\n",
              "  .colab-df-quickchart-complete:disabled,\n",
              "  .colab-df-quickchart-complete:disabled:hover {\n",
              "    background-color: var(--disabled-bg-color);\n",
              "    fill: var(--disabled-fill-color);\n",
              "    box-shadow: none;\n",
              "  }\n",
              "\n",
              "  .colab-df-spinner {\n",
              "    border: 2px solid var(--fill-color);\n",
              "    border-color: transparent;\n",
              "    border-bottom-color: var(--fill-color);\n",
              "    animation:\n",
              "      spin 1s steps(1) infinite;\n",
              "  }\n",
              "\n",
              "  @keyframes spin {\n",
              "    0% {\n",
              "      border-color: transparent;\n",
              "      border-bottom-color: var(--fill-color);\n",
              "      border-left-color: var(--fill-color);\n",
              "    }\n",
              "    20% {\n",
              "      border-color: transparent;\n",
              "      border-left-color: var(--fill-color);\n",
              "      border-top-color: var(--fill-color);\n",
              "    }\n",
              "    30% {\n",
              "      border-color: transparent;\n",
              "      border-left-color: var(--fill-color);\n",
              "      border-top-color: var(--fill-color);\n",
              "      border-right-color: var(--fill-color);\n",
              "    }\n",
              "    40% {\n",
              "      border-color: transparent;\n",
              "      border-right-color: var(--fill-color);\n",
              "      border-top-color: var(--fill-color);\n",
              "    }\n",
              "    60% {\n",
              "      border-color: transparent;\n",
              "      border-right-color: var(--fill-color);\n",
              "    }\n",
              "    80% {\n",
              "      border-color: transparent;\n",
              "      border-right-color: var(--fill-color);\n",
              "      border-bottom-color: var(--fill-color);\n",
              "    }\n",
              "    90% {\n",
              "      border-color: transparent;\n",
              "      border-bottom-color: var(--fill-color);\n",
              "    }\n",
              "  }\n",
              "</style>\n",
              "\n",
              "  <script>\n",
              "    async function quickchart(key) {\n",
              "      const quickchartButtonEl =\n",
              "        document.querySelector('#' + key + ' button');\n",
              "      quickchartButtonEl.disabled = true;  // To prevent multiple clicks.\n",
              "      quickchartButtonEl.classList.add('colab-df-spinner');\n",
              "      try {\n",
              "        const charts = await google.colab.kernel.invokeFunction(\n",
              "            'suggestCharts', [key], {});\n",
              "      } catch (error) {\n",
              "        console.error('Error during call to suggestCharts:', error);\n",
              "      }\n",
              "      quickchartButtonEl.classList.remove('colab-df-spinner');\n",
              "      quickchartButtonEl.classList.add('colab-df-quickchart-complete');\n",
              "    }\n",
              "    (() => {\n",
              "      let quickchartButtonEl =\n",
              "        document.querySelector('#df-d20a8e4b-4589-49f0-88a9-5b05b2ab4ee1 button');\n",
              "      quickchartButtonEl.style.display =\n",
              "        google.colab.kernel.accessAllowed ? 'block' : 'none';\n",
              "    })();\n",
              "  </script>\n",
              "</div>\n",
              "\n",
              "  <div id=\"id_9fd49fe6-98ac-4df3-bfdd-38e768440d62\">\n",
              "    <style>\n",
              "      .colab-df-generate {\n",
              "        background-color: #E8F0FE;\n",
              "        border: none;\n",
              "        border-radius: 50%;\n",
              "        cursor: pointer;\n",
              "        display: none;\n",
              "        fill: #1967D2;\n",
              "        height: 32px;\n",
              "        padding: 0 0 0 0;\n",
              "        width: 32px;\n",
              "      }\n",
              "\n",
              "      .colab-df-generate:hover {\n",
              "        background-color: #E2EBFA;\n",
              "        box-shadow: 0px 1px 2px rgba(60, 64, 67, 0.3), 0px 1px 3px 1px rgba(60, 64, 67, 0.15);\n",
              "        fill: #174EA6;\n",
              "      }\n",
              "\n",
              "      [theme=dark] .colab-df-generate {\n",
              "        background-color: #3B4455;\n",
              "        fill: #D2E3FC;\n",
              "      }\n",
              "\n",
              "      [theme=dark] .colab-df-generate:hover {\n",
              "        background-color: #434B5C;\n",
              "        box-shadow: 0px 1px 3px 1px rgba(0, 0, 0, 0.15);\n",
              "        filter: drop-shadow(0px 1px 2px rgba(0, 0, 0, 0.3));\n",
              "        fill: #FFFFFF;\n",
              "      }\n",
              "    </style>\n",
              "    <button class=\"colab-df-generate\" onclick=\"generateWithVariable('spam_df')\"\n",
              "            title=\"Generate code using this dataframe.\"\n",
              "            style=\"display:none;\">\n",
              "\n",
              "  <svg xmlns=\"http://www.w3.org/2000/svg\" height=\"24px\"viewBox=\"0 0 24 24\"\n",
              "       width=\"24px\">\n",
              "    <path d=\"M7,19H8.4L18.45,9,17,7.55,7,17.6ZM5,21V16.75L18.45,3.32a2,2,0,0,1,2.83,0l1.4,1.43a1.91,1.91,0,0,1,.58,1.4,1.91,1.91,0,0,1-.58,1.4L9.25,21ZM18.45,9,17,7.55Zm-12,3A5.31,5.31,0,0,0,4.9,8.1,5.31,5.31,0,0,0,1,6.5,5.31,5.31,0,0,0,4.9,4.9,5.31,5.31,0,0,0,6.5,1,5.31,5.31,0,0,0,8.1,4.9,5.31,5.31,0,0,0,12,6.5,5.46,5.46,0,0,0,6.5,12Z\"/>\n",
              "  </svg>\n",
              "    </button>\n",
              "    <script>\n",
              "      (() => {\n",
              "      const buttonEl =\n",
              "        document.querySelector('#id_9fd49fe6-98ac-4df3-bfdd-38e768440d62 button.colab-df-generate');\n",
              "      buttonEl.style.display =\n",
              "        google.colab.kernel.accessAllowed ? 'block' : 'none';\n",
              "\n",
              "      buttonEl.onclick = () => {\n",
              "        google.colab.notebook.generateWithVariable('spam_df');\n",
              "      }\n",
              "      })();\n",
              "    </script>\n",
              "  </div>\n",
              "\n",
              "    </div>\n",
              "  </div>\n"
            ],
            "application/vnd.google.colaboratory.intrinsic+json": {
              "type": "dataframe",
              "variable_name": "spam_df",
              "summary": "{\n  \"name\": \"spam_df\",\n  \"rows\": 5572,\n  \"fields\": [\n    {\n      \"column\": \"v1\",\n      \"properties\": {\n        \"dtype\": \"category\",\n        \"num_unique_values\": 2,\n        \"samples\": [\n          \"spam\",\n          \"ham\"\n        ],\n        \"semantic_type\": \"\",\n        \"description\": \"\"\n      }\n    },\n    {\n      \"column\": \"v2\",\n      \"properties\": {\n        \"dtype\": \"string\",\n        \"num_unique_values\": 5034,\n        \"samples\": [\n          \"can\\u00e5\\u00f5t wait cornwall hope tonight isn\\u00e5\\u00f5t bad well it\\u00e5\\u00f5s rock night shite anyway i\\u00e5\\u00f5m going kip good night speak soon\",\n          \"oh baby house come dont new pictures facebook\"\n        ],\n        \"semantic_type\": \"\",\n        \"description\": \"\"\n      }\n    }\n  ]\n}"
            }
          },
          "metadata": {},
          "execution_count": 3
        }
      ]
    },
    {
      "cell_type": "code",
      "source": [
        "print_basic_statistics_from_df(spam_df)"
      ],
      "metadata": {
        "colab": {
          "base_uri": "https://localhost:8080/"
        },
        "id": "5wnM3Q5yfr2a",
        "outputId": "13b74d07-5024-4d5b-ed34-af8bb6959400"
      },
      "execution_count": 4,
      "outputs": [
        {
          "output_type": "stream",
          "name": "stdout",
          "text": [
            "----- Basic Statistics -----\n",
            "Number of messages: 5572\n",
            "\tHam messages: 4825\n",
            "\tSpam messages: 747\n",
            "Average number of words per message: 8.375987078248384\n",
            "Five most frequent words: ['gt', 'ur', 'get', 'call', 'u']\n",
            "Number of words that appear once: 3588\n"
          ]
        }
      ]
    },
    {
      "cell_type": "code",
      "source": [
        "### Performing Tokenization on the Spam File Using NLTK ###\n",
        "nltk_tokens = tokenize_using_nltk(spam_df['v2'])\n",
        "print('\\n{}'.format(nltk_tokens[0:5]))\n",
        "print('Type of token: {}\\n'.format(type(nltk_tokens[0][0])))\n",
        "\n",
        "print_basic_statistics_from_sentences(token_matrix_to_string_array(nltk_tokens))"
      ],
      "metadata": {
        "colab": {
          "base_uri": "https://localhost:8080/"
        },
        "id": "lTzDdzLqK7e3",
        "outputId": "90bcc6f7-4012-46c3-8330-2cd8f324a064"
      },
      "execution_count": 5,
      "outputs": [
        {
          "output_type": "stream",
          "name": "stdout",
          "text": [
            "Time elapsed: 0.9811[sec]\n",
            "\n",
            "[['go', 'jurong', 'point', 'crazy', 'available', 'bugis', 'n', 'great', 'world', 'la', 'e', 'buffet', 'cine', 'got', 'amore', 'wat'], ['ok', 'lar', 'joking', 'wif', 'u', 'oni'], ['free', 'entry', 'wkly', 'comp', 'win', 'fa', 'cup', 'final', 'tkts', 'may', 'text', 'fa', 'receive', 'entry', 'question', 'std', 'txt', 'rate', 'c', 'apply'], ['u', 'dun', 'say', 'early', 'hor', 'u', 'c', 'already', 'say'], ['nah', 'think', 'goes', 'usf', 'lives', 'around', 'though']]\n",
            "Type of token: <class 'str'>\n",
            "\n",
            "Average number of words per message: 8.375987078248384\n",
            "Five most frequent words: ['gt', 'ur', 'get', 'call', 'u']\n",
            "Number of words that appear once: 3588\n"
          ]
        }
      ]
    },
    {
      "cell_type": "code",
      "source": [
        "### Performing Tokenization on the Spam File Using SpaCy ###\n",
        "spacy_tokens = tokenize_using_spacy(spam_df['v2'])\n",
        "print('\\n{}'.format(spacy_tokens[0:5]))\n",
        "print('Type of token: {}\\n'.format(type(spacy_tokens[0][0])))\n",
        "\n",
        "print_basic_statistics_from_sentences(token_matrix_to_string_array(spacy_tokens))"
      ],
      "metadata": {
        "colab": {
          "base_uri": "https://localhost:8080/"
        },
        "id": "GfzQSzagNZ_A",
        "outputId": "c633d7f1-06f2-40b4-cbc8-410d7b22b20e"
      },
      "execution_count": 6,
      "outputs": [
        {
          "output_type": "stream",
          "name": "stdout",
          "text": [
            "Time elapsed: 0.6626[sec]\n",
            "\n",
            "[[go, jurong, point, crazy, available, bugis, n, great, world, la, e, buffet, cine, got, amore, wat], [ok, lar, joking, wif, u, oni], [free, entry, wkly, comp, win, fa, cup, final, tkts, may, text, fa, receive, entry, question, std, txt, rate, c, apply], [u, dun, say, early, hor, u, c, already, say], [nah, think, goes, usf, lives, around, though]]\n",
            "Type of token: <class 'spacy.tokens.token.Token'>\n",
            "\n",
            "Average number of words per message: 8.375987078248384\n",
            "Five most frequent words: ['gt', 'ur', 'get', 'call', 'u']\n",
            "Number of words that appear once: 3588\n"
          ]
        }
      ]
    },
    {
      "cell_type": "markdown",
      "source": [
        "The two tokenization techniques have similar processing speeds.</br>\n",
        "In both techniques, the process speed depends on the size of the text.</br>\n",
        "The NLTK library outputs tokens of type <'str'> while the SpaCy library outputs tokens of type <'spacy.tokens.token.Token'> that is special to the library.</br>\n",
        "Another difference between NLTK and spaCy is their handling of punctuation. NLTK separates punctuation into individual tokens. For example, 'point,' is tokenized as 'point' and ','. While, spaCy keeps punctuation attached to the word, so 'point,' remains a single token."
      ],
      "metadata": {
        "id": "RcIzjU39K6WQ"
      }
    },
    {
      "cell_type": "code",
      "source": [
        "### Performing Stemming on the Spam File Using NLTK ###\n",
        "nltk_stemmed = stem_using_nltk(nltk_tokens)\n",
        "print('\\n{}'.format(nltk_stemmed[0:5]))\n",
        "print('\\nType of token: {}'.format(type(nltk_stemmed[0][0])))\n",
        "\n",
        "print_basic_statistics_from_sentences(token_matrix_to_string_array(nltk_stemmed))"
      ],
      "metadata": {
        "colab": {
          "base_uri": "https://localhost:8080/"
        },
        "id": "LjMPYN2AUrH3",
        "outputId": "6290b449-9e6b-4ad2-871b-5654e0e6756e"
      },
      "execution_count": 7,
      "outputs": [
        {
          "output_type": "stream",
          "name": "stdout",
          "text": [
            "Time elapsed: 0.5581[sec]\n",
            "\n",
            "[['go', 'jurong', 'point', 'crazy', 'avail', 'bug', 'n', 'gre', 'world', 'la', 'e', 'buffet', 'cin', 'got', 'am', 'wat'], ['ok', 'lar', 'jok', 'wif', 'u', 'on'], ['fre', 'entry', 'wkly', 'comp', 'win', 'fa', 'cup', 'fin', 'tkts', 'may', 'text', 'fa', 'receiv', 'entry', 'quest', 'std', 'txt', 'rat', 'c', 'apply'], ['u', 'dun', 'say', 'ear', 'hor', 'u', 'c', 'already', 'say'], ['nah', 'think', 'goe', 'usf', 'liv', 'around', 'though']]\n",
            "\n",
            "Type of token: <class 'str'>\n",
            "Average number of words per message: 8.375987078248384\n",
            "Five most frequent words: ['gt', 'ur', 'get', 'cal', 'u']\n",
            "Number of words that appear once: 2431\n"
          ]
        }
      ]
    },
    {
      "cell_type": "markdown",
      "source": [
        "The running time of the syemming depends on the size of the tokenized text.</br> Stemming involves applying rules to reduce tokens to their root forms, adding more rules and handling irregular forms can add complexity and worsen processing time.</br>\n",
        "Just as with its tokenization method, NLTK outputs stemmed tokens of type <'str'>.</br>\n",
        "From what I've searched online, spaCy does not have a stemming method so I couldn't apply it in this assignment."
      ],
      "metadata": {
        "id": "LGJOidiQK7ko"
      }
    },
    {
      "cell_type": "code",
      "source": [
        "### Performing Lemmatization on the Spam File Using NLTK ###\n",
        "nltk_lemmatized = lemmatize_using_nltk(nltk_tokens)\n",
        "print('\\n{}'.format(nltk_lemmatized[0:5]))\n",
        "print('Type of token: {}\\n'.format(type(nltk_lemmatized[0][0])))\n",
        "\n",
        "print_basic_statistics_from_sentences(token_matrix_to_string_array(nltk_lemmatized))"
      ],
      "metadata": {
        "colab": {
          "base_uri": "https://localhost:8080/"
        },
        "id": "daRV1sUiLeHH",
        "outputId": "840167ee-8fcb-4189-8651-377506ec46df"
      },
      "execution_count": 8,
      "outputs": [
        {
          "output_type": "stream",
          "name": "stdout",
          "text": [
            "Time elapsed: 1.7149[sec]\n",
            "\n",
            "[['go', 'jurong', 'point', 'crazy', 'available', 'bugis', 'n', 'great', 'world', 'la', 'e', 'buffet', 'cine', 'got', 'amore', 'wat'], ['ok', 'lar', 'joking', 'wif', 'u', 'oni'], ['free', 'entry', 'wkly', 'comp', 'win', 'fa', 'cup', 'final', 'tkts', 'may', 'text', 'fa', 'receive', 'entry', 'question', 'std', 'txt', 'rate', 'c', 'apply'], ['u', 'dun', 'say', 'early', 'hor', 'u', 'c', 'already', 'say'], ['nah', 'think', 'go', 'usf', 'life', 'around', 'though']]\n",
            "Type of token: <class 'str'>\n",
            "\n",
            "Average number of words per message: 8.375987078248384\n",
            "Five most frequent words: ['gt', 'ur', 'get', 'call', 'u']\n",
            "Number of words that appear once: 3293\n"
          ]
        }
      ]
    },
    {
      "cell_type": "code",
      "source": [
        "### Performing Lemmatization on the Spam File Using SpaCy ###\n",
        "spacy_lemmatized = lemmatize_using_spacy(spam_df['v2'])\n",
        "print('\\n{}'.format(spacy_lemmatized[0:5]))\n",
        "print('Type of token: {}\\n'.format(type(spacy_lemmatized[0][0])))\n",
        "\n",
        "print_basic_statistics_from_sentences(token_matrix_to_string_array(spacy_lemmatized))"
      ],
      "metadata": {
        "colab": {
          "base_uri": "https://localhost:8080/"
        },
        "id": "kDZ8IV6vTgcM",
        "outputId": "670882ee-de9e-4d85-d308-0f588809468a"
      },
      "execution_count": 9,
      "outputs": [
        {
          "output_type": "stream",
          "name": "stdout",
          "text": [
            "Time elapsed: 7.4103[sec]\n",
            "\n",
            "[['go', 'jurong', 'point', 'crazy', 'available', 'bugis', 'n', 'great', 'world', 'la', 'e', 'buffet', 'cine', 'get', 'amore', 'wat'], ['ok', 'lar', 'joke', 'wif', 'u', 'oni'], ['free', 'entry', 'wkly', 'comp', 'win', 'fa', 'cup', 'final', 'tkts', 'may', 'text', 'fa', 'receive', 'entry', 'question', 'std', 'txt', 'rate', 'c', 'apply'], ['u', 'dun', 'say', 'early', 'hor', 'u', 'c', 'already', 'say'], ['nah', 'think', 'go', 'usf', 'live', 'around', 'though']]\n",
            "Type of token: <class 'str'>\n",
            "\n",
            "Average number of words per message: 8.46859296482412\n",
            "Five most frequent words: ['ur', 'go', 'call', 'get', 'u']\n",
            "Number of words that appear once: 3081\n"
          ]
        }
      ]
    },
    {
      "cell_type": "markdown",
      "source": [
        "The outputs of both teqniques is of type <'str'>.</br>\n",
        "The processing speed of NLTK is substantially quicker than of spaCy.</br> NLTK uses a simpler and more direct implementation of lemmatization algorithms while spaCy's lemmatization process is more complex and includes additional features like POS tagging, NER, etc. to find the base forms of the text.</br>\n",
        "NLTK lemmatizes using the tokens while spaCy works on the original text (when I tried giving it the tokens from the previous question it didn't work).</br>\n",
        "In the lemmatization process, we're trying to reduce the words in the text to their root forms based on a dictionary. The running time is affected by the length of the text to be lemmatized as well as the size of the vocabulary."
      ],
      "metadata": {
        "id": "ky6PwBELK8Wo"
      }
    },
    {
      "cell_type": "code",
      "source": [
        "### Loading data from URL link ###\n",
        "url = 'https://www.rottentomatoes.com/'\n",
        "#url = ''\n",
        "response = requests.get(url)\n",
        "\n",
        "if response.status_code == 200:\n",
        "    web_content = response.text\n",
        "    #parse the HTML Content\n",
        "    soup = BeautifulSoup(web_content, 'html.parser')\n",
        "    #extract All Text\n",
        "    all_text = soup.get_text(separator='\\n', strip=True)\n",
        "    #split the text into lines\n",
        "    text_lines = all_text.split('\\n')\n",
        "    #remove empty lines\n",
        "    text_lines = [line for line in text_lines if line.strip() != \"\"]\n",
        "\n",
        "    url_df = pd.DataFrame(text_lines, columns=['Text'])\n",
        "    url_df = clean_data(url_df, 'Text')\n",
        "    print(url_df)\n",
        "else:\n",
        "    print(\"Failed to retrieve the webpage.\")"
      ],
      "metadata": {
        "colab": {
          "base_uri": "https://localhost:8080/"
        },
        "id": "3C2_wfAUUbrU",
        "outputId": "822d09ed-bee0-4ffe-bc07-1e3d6d8c060b"
      },
      "execution_count": 10,
      "outputs": [
        {
          "output_type": "stream",
          "name": "stdout",
          "text": [
            "                                                  Text\n",
            "0    rotten tomatoes movies tv shows movie trailers...\n",
            "1                                               signed\n",
            "2                                    skip main content\n",
            "3                                               cancel\n",
            "4                                            movies tv\n",
            "..                                                 ...\n",
            "640                                    cookie settings\n",
            "641                                  california notice\n",
            "642                                         ad choices\n",
            "643                                      accessibility\n",
            "644                 copyright fandango rights reserved\n",
            "\n",
            "[645 rows x 1 columns]\n"
          ]
        }
      ]
    },
    {
      "cell_type": "code",
      "source": [
        "print_basic_statistics_from_sentences(url_df['Text'])"
      ],
      "metadata": {
        "colab": {
          "base_uri": "https://localhost:8080/"
        },
        "id": "uDeMOwRDVVPs",
        "outputId": "03255fbb-4b1e-4327-dd39-e5e1197bc3ec"
      },
      "execution_count": 11,
      "outputs": [
        {
          "output_type": "stream",
          "name": "stdout",
          "text": [
            "Average number of words per message: 1.5891472868217054\n",
            "Five most frequent words: ['movie', 'view', 'season', 'tv', 'movies']\n",
            "Number of words that appear once: 148\n"
          ]
        }
      ]
    },
    {
      "cell_type": "code",
      "source": [
        "### Performing Tokenization on the URL Data Using NLTK ###\n",
        "url_tokens = tokenize_using_nltk(url_df['Text'])\n",
        "print('\\n{}\\n'.format(url_tokens[0:5]))\n",
        "\n",
        "print_basic_statistics_from_sentences(token_matrix_to_string_array(url_tokens))"
      ],
      "metadata": {
        "colab": {
          "base_uri": "https://localhost:8080/"
        },
        "id": "MyFr1eWiVvPw",
        "outputId": "5cefdbc3-d814-4114-c504-883bd94877e0"
      },
      "execution_count": 12,
      "outputs": [
        {
          "output_type": "stream",
          "name": "stdout",
          "text": [
            "Time elapsed: 0.0604[sec]\n",
            "\n",
            "[['rotten', 'tomatoes', 'movies', 'tv', 'shows', 'movie', 'trailers', 'reviews', 'rotten', 'tomatoes'], ['signed'], ['skip', 'main', 'content'], ['cancel'], ['movies', 'tv']]\n",
            "\n",
            "Average number of words per message: 1.5891472868217054\n",
            "Five most frequent words: ['movie', 'view', 'season', 'tv', 'movies']\n",
            "Number of words that appear once: 148\n"
          ]
        }
      ]
    },
    {
      "cell_type": "code",
      "source": [
        "### Performing Stemming on the URL Data Using NLTK ###\n",
        "url_stemmed = stem_using_nltk(url_tokens)\n",
        "print('\\n{}\\n'.format(url_stemmed[0:5]))\n",
        "\n",
        "print_basic_statistics_from_sentences(token_matrix_to_string_array(url_stemmed))"
      ],
      "metadata": {
        "colab": {
          "base_uri": "https://localhost:8080/"
        },
        "id": "ewFu3KQMVwzw",
        "outputId": "0fdca0b7-3514-42c1-99c2-902c5e2a29d4"
      },
      "execution_count": 13,
      "outputs": [
        {
          "output_type": "stream",
          "name": "stdout",
          "text": [
            "Time elapsed: 0.0212[sec]\n",
            "\n",
            "[['rot', 'tomato', 'movy', 'tv', 'show', 'movy', 'trail', 'review', 'rot', 'tomato'], ['sign'], ['skip', 'main', 'cont'], ['cancel'], ['movy', 'tv']]\n",
            "\n",
            "Average number of words per message: 1.5891472868217054\n",
            "Five most frequent words: ['new', 'view', 'season', 'tv', 'movy']\n",
            "Number of words that appear once: 122\n"
          ]
        }
      ]
    },
    {
      "cell_type": "code",
      "source": [
        "### Performing Lemmatization on the URL Data Using NLTK ###\n",
        "url_lemmatized = lemmatize_using_nltk(url_tokens)\n",
        "print('\\n{}\\n'.format(url_lemmatized[0:5]))\n",
        "\n",
        "print_basic_statistics_from_sentences(token_matrix_to_string_array(url_lemmatized))"
      ],
      "metadata": {
        "colab": {
          "base_uri": "https://localhost:8080/"
        },
        "id": "_TKc2YjeVw_n",
        "outputId": "ddcf619c-2145-4d72-fa0a-d8a202be4ba4"
      },
      "execution_count": 14,
      "outputs": [
        {
          "output_type": "stream",
          "name": "stdout",
          "text": [
            "Time elapsed: 0.0089[sec]\n",
            "\n",
            "[['rotten', 'tomato', 'movie', 'tv', 'show', 'movie', 'trailer', 'review', 'rotten', 'tomato'], ['signed'], ['skip', 'main', 'content'], ['cancel'], ['movie', 'tv']]\n",
            "\n",
            "Average number of words per message: 1.5891472868217054\n",
            "Five most frequent words: ['boy', 'view', 'season', 'tv', 'movie']\n",
            "Number of words that appear once: 135\n"
          ]
        }
      ]
    },
    {
      "cell_type": "code",
      "source": [
        "### Loading data from txt file ###\n",
        "with open('whatsapp_messages.txt', 'r') as file:\n",
        "    messages = file.readlines()\n",
        "\n",
        "whatsapp_df = pd.DataFrame(messages, columns=['Messages'])\n",
        "whatsapp_df = clean_data(whatsapp_df, 'Messages')\n",
        "whatsapp_df"
      ],
      "metadata": {
        "colab": {
          "base_uri": "https://localhost:8080/",
          "height": 423
        },
        "id": "0ntSbscW5Nci",
        "outputId": "cf553d3c-7877-4e4f-a141-7d58ada3d6ac"
      },
      "execution_count": 15,
      "outputs": [
        {
          "output_type": "execute_result",
          "data": {
            "text/plain": [
              "                                             Messages\n",
              "0   hey team quick reminder today meeting conferen...\n",
              "1        anyone latest sales report need presentation\n",
              "2                 happy friday everyone plans weekend\n",
              "3                           heads printer floor toner\n",
              "4                  someone review draft proposal sent\n",
              "..                                                ...\n",
              "72  update network upgrade scheduled weekend minim...\n",
              "73  congrats accounting team closing books ahead s...\n",
              "74  reminder town hall meeting next tuesday submit...\n",
              "75  hr update wellness program launches next week ...\n",
              "76  need volunteers holiday decorating committee m...\n",
              "\n",
              "[77 rows x 1 columns]"
            ],
            "text/html": [
              "\n",
              "  <div id=\"df-a62606b1-476e-4807-abf8-aa65568391b1\" class=\"colab-df-container\">\n",
              "    <div>\n",
              "<style scoped>\n",
              "    .dataframe tbody tr th:only-of-type {\n",
              "        vertical-align: middle;\n",
              "    }\n",
              "\n",
              "    .dataframe tbody tr th {\n",
              "        vertical-align: top;\n",
              "    }\n",
              "\n",
              "    .dataframe thead th {\n",
              "        text-align: right;\n",
              "    }\n",
              "</style>\n",
              "<table border=\"1\" class=\"dataframe\">\n",
              "  <thead>\n",
              "    <tr style=\"text-align: right;\">\n",
              "      <th></th>\n",
              "      <th>Messages</th>\n",
              "    </tr>\n",
              "  </thead>\n",
              "  <tbody>\n",
              "    <tr>\n",
              "      <th>0</th>\n",
              "      <td>hey team quick reminder today meeting conferen...</td>\n",
              "    </tr>\n",
              "    <tr>\n",
              "      <th>1</th>\n",
              "      <td>anyone latest sales report need presentation</td>\n",
              "    </tr>\n",
              "    <tr>\n",
              "      <th>2</th>\n",
              "      <td>happy friday everyone plans weekend</td>\n",
              "    </tr>\n",
              "    <tr>\n",
              "      <th>3</th>\n",
              "      <td>heads printer floor toner</td>\n",
              "    </tr>\n",
              "    <tr>\n",
              "      <th>4</th>\n",
              "      <td>someone review draft proposal sent</td>\n",
              "    </tr>\n",
              "    <tr>\n",
              "      <th>...</th>\n",
              "      <td>...</td>\n",
              "    </tr>\n",
              "    <tr>\n",
              "      <th>72</th>\n",
              "      <td>update network upgrade scheduled weekend minim...</td>\n",
              "    </tr>\n",
              "    <tr>\n",
              "      <th>73</th>\n",
              "      <td>congrats accounting team closing books ahead s...</td>\n",
              "    </tr>\n",
              "    <tr>\n",
              "      <th>74</th>\n",
              "      <td>reminder town hall meeting next tuesday submit...</td>\n",
              "    </tr>\n",
              "    <tr>\n",
              "      <th>75</th>\n",
              "      <td>hr update wellness program launches next week ...</td>\n",
              "    </tr>\n",
              "    <tr>\n",
              "      <th>76</th>\n",
              "      <td>need volunteers holiday decorating committee m...</td>\n",
              "    </tr>\n",
              "  </tbody>\n",
              "</table>\n",
              "<p>77 rows × 1 columns</p>\n",
              "</div>\n",
              "    <div class=\"colab-df-buttons\">\n",
              "\n",
              "  <div class=\"colab-df-container\">\n",
              "    <button class=\"colab-df-convert\" onclick=\"convertToInteractive('df-a62606b1-476e-4807-abf8-aa65568391b1')\"\n",
              "            title=\"Convert this dataframe to an interactive table.\"\n",
              "            style=\"display:none;\">\n",
              "\n",
              "  <svg xmlns=\"http://www.w3.org/2000/svg\" height=\"24px\" viewBox=\"0 -960 960 960\">\n",
              "    <path d=\"M120-120v-720h720v720H120Zm60-500h600v-160H180v160Zm220 220h160v-160H400v160Zm0 220h160v-160H400v160ZM180-400h160v-160H180v160Zm440 0h160v-160H620v160ZM180-180h160v-160H180v160Zm440 0h160v-160H620v160Z\"/>\n",
              "  </svg>\n",
              "    </button>\n",
              "\n",
              "  <style>\n",
              "    .colab-df-container {\n",
              "      display:flex;\n",
              "      gap: 12px;\n",
              "    }\n",
              "\n",
              "    .colab-df-convert {\n",
              "      background-color: #E8F0FE;\n",
              "      border: none;\n",
              "      border-radius: 50%;\n",
              "      cursor: pointer;\n",
              "      display: none;\n",
              "      fill: #1967D2;\n",
              "      height: 32px;\n",
              "      padding: 0 0 0 0;\n",
              "      width: 32px;\n",
              "    }\n",
              "\n",
              "    .colab-df-convert:hover {\n",
              "      background-color: #E2EBFA;\n",
              "      box-shadow: 0px 1px 2px rgba(60, 64, 67, 0.3), 0px 1px 3px 1px rgba(60, 64, 67, 0.15);\n",
              "      fill: #174EA6;\n",
              "    }\n",
              "\n",
              "    .colab-df-buttons div {\n",
              "      margin-bottom: 4px;\n",
              "    }\n",
              "\n",
              "    [theme=dark] .colab-df-convert {\n",
              "      background-color: #3B4455;\n",
              "      fill: #D2E3FC;\n",
              "    }\n",
              "\n",
              "    [theme=dark] .colab-df-convert:hover {\n",
              "      background-color: #434B5C;\n",
              "      box-shadow: 0px 1px 3px 1px rgba(0, 0, 0, 0.15);\n",
              "      filter: drop-shadow(0px 1px 2px rgba(0, 0, 0, 0.3));\n",
              "      fill: #FFFFFF;\n",
              "    }\n",
              "  </style>\n",
              "\n",
              "    <script>\n",
              "      const buttonEl =\n",
              "        document.querySelector('#df-a62606b1-476e-4807-abf8-aa65568391b1 button.colab-df-convert');\n",
              "      buttonEl.style.display =\n",
              "        google.colab.kernel.accessAllowed ? 'block' : 'none';\n",
              "\n",
              "      async function convertToInteractive(key) {\n",
              "        const element = document.querySelector('#df-a62606b1-476e-4807-abf8-aa65568391b1');\n",
              "        const dataTable =\n",
              "          await google.colab.kernel.invokeFunction('convertToInteractive',\n",
              "                                                    [key], {});\n",
              "        if (!dataTable) return;\n",
              "\n",
              "        const docLinkHtml = 'Like what you see? Visit the ' +\n",
              "          '<a target=\"_blank\" href=https://colab.research.google.com/notebooks/data_table.ipynb>data table notebook</a>'\n",
              "          + ' to learn more about interactive tables.';\n",
              "        element.innerHTML = '';\n",
              "        dataTable['output_type'] = 'display_data';\n",
              "        await google.colab.output.renderOutput(dataTable, element);\n",
              "        const docLink = document.createElement('div');\n",
              "        docLink.innerHTML = docLinkHtml;\n",
              "        element.appendChild(docLink);\n",
              "      }\n",
              "    </script>\n",
              "  </div>\n",
              "\n",
              "\n",
              "<div id=\"df-9d537903-881e-4f63-bcce-0cdc03cc40c9\">\n",
              "  <button class=\"colab-df-quickchart\" onclick=\"quickchart('df-9d537903-881e-4f63-bcce-0cdc03cc40c9')\"\n",
              "            title=\"Suggest charts\"\n",
              "            style=\"display:none;\">\n",
              "\n",
              "<svg xmlns=\"http://www.w3.org/2000/svg\" height=\"24px\"viewBox=\"0 0 24 24\"\n",
              "     width=\"24px\">\n",
              "    <g>\n",
              "        <path d=\"M19 3H5c-1.1 0-2 .9-2 2v14c0 1.1.9 2 2 2h14c1.1 0 2-.9 2-2V5c0-1.1-.9-2-2-2zM9 17H7v-7h2v7zm4 0h-2V7h2v10zm4 0h-2v-4h2v4z\"/>\n",
              "    </g>\n",
              "</svg>\n",
              "  </button>\n",
              "\n",
              "<style>\n",
              "  .colab-df-quickchart {\n",
              "      --bg-color: #E8F0FE;\n",
              "      --fill-color: #1967D2;\n",
              "      --hover-bg-color: #E2EBFA;\n",
              "      --hover-fill-color: #174EA6;\n",
              "      --disabled-fill-color: #AAA;\n",
              "      --disabled-bg-color: #DDD;\n",
              "  }\n",
              "\n",
              "  [theme=dark] .colab-df-quickchart {\n",
              "      --bg-color: #3B4455;\n",
              "      --fill-color: #D2E3FC;\n",
              "      --hover-bg-color: #434B5C;\n",
              "      --hover-fill-color: #FFFFFF;\n",
              "      --disabled-bg-color: #3B4455;\n",
              "      --disabled-fill-color: #666;\n",
              "  }\n",
              "\n",
              "  .colab-df-quickchart {\n",
              "    background-color: var(--bg-color);\n",
              "    border: none;\n",
              "    border-radius: 50%;\n",
              "    cursor: pointer;\n",
              "    display: none;\n",
              "    fill: var(--fill-color);\n",
              "    height: 32px;\n",
              "    padding: 0;\n",
              "    width: 32px;\n",
              "  }\n",
              "\n",
              "  .colab-df-quickchart:hover {\n",
              "    background-color: var(--hover-bg-color);\n",
              "    box-shadow: 0 1px 2px rgba(60, 64, 67, 0.3), 0 1px 3px 1px rgba(60, 64, 67, 0.15);\n",
              "    fill: var(--button-hover-fill-color);\n",
              "  }\n",
              "\n",
              "  .colab-df-quickchart-complete:disabled,\n",
              "  .colab-df-quickchart-complete:disabled:hover {\n",
              "    background-color: var(--disabled-bg-color);\n",
              "    fill: var(--disabled-fill-color);\n",
              "    box-shadow: none;\n",
              "  }\n",
              "\n",
              "  .colab-df-spinner {\n",
              "    border: 2px solid var(--fill-color);\n",
              "    border-color: transparent;\n",
              "    border-bottom-color: var(--fill-color);\n",
              "    animation:\n",
              "      spin 1s steps(1) infinite;\n",
              "  }\n",
              "\n",
              "  @keyframes spin {\n",
              "    0% {\n",
              "      border-color: transparent;\n",
              "      border-bottom-color: var(--fill-color);\n",
              "      border-left-color: var(--fill-color);\n",
              "    }\n",
              "    20% {\n",
              "      border-color: transparent;\n",
              "      border-left-color: var(--fill-color);\n",
              "      border-top-color: var(--fill-color);\n",
              "    }\n",
              "    30% {\n",
              "      border-color: transparent;\n",
              "      border-left-color: var(--fill-color);\n",
              "      border-top-color: var(--fill-color);\n",
              "      border-right-color: var(--fill-color);\n",
              "    }\n",
              "    40% {\n",
              "      border-color: transparent;\n",
              "      border-right-color: var(--fill-color);\n",
              "      border-top-color: var(--fill-color);\n",
              "    }\n",
              "    60% {\n",
              "      border-color: transparent;\n",
              "      border-right-color: var(--fill-color);\n",
              "    }\n",
              "    80% {\n",
              "      border-color: transparent;\n",
              "      border-right-color: var(--fill-color);\n",
              "      border-bottom-color: var(--fill-color);\n",
              "    }\n",
              "    90% {\n",
              "      border-color: transparent;\n",
              "      border-bottom-color: var(--fill-color);\n",
              "    }\n",
              "  }\n",
              "</style>\n",
              "\n",
              "  <script>\n",
              "    async function quickchart(key) {\n",
              "      const quickchartButtonEl =\n",
              "        document.querySelector('#' + key + ' button');\n",
              "      quickchartButtonEl.disabled = true;  // To prevent multiple clicks.\n",
              "      quickchartButtonEl.classList.add('colab-df-spinner');\n",
              "      try {\n",
              "        const charts = await google.colab.kernel.invokeFunction(\n",
              "            'suggestCharts', [key], {});\n",
              "      } catch (error) {\n",
              "        console.error('Error during call to suggestCharts:', error);\n",
              "      }\n",
              "      quickchartButtonEl.classList.remove('colab-df-spinner');\n",
              "      quickchartButtonEl.classList.add('colab-df-quickchart-complete');\n",
              "    }\n",
              "    (() => {\n",
              "      let quickchartButtonEl =\n",
              "        document.querySelector('#df-9d537903-881e-4f63-bcce-0cdc03cc40c9 button');\n",
              "      quickchartButtonEl.style.display =\n",
              "        google.colab.kernel.accessAllowed ? 'block' : 'none';\n",
              "    })();\n",
              "  </script>\n",
              "</div>\n",
              "\n",
              "  <div id=\"id_fce233f0-f280-48c9-9b59-8c93171adc47\">\n",
              "    <style>\n",
              "      .colab-df-generate {\n",
              "        background-color: #E8F0FE;\n",
              "        border: none;\n",
              "        border-radius: 50%;\n",
              "        cursor: pointer;\n",
              "        display: none;\n",
              "        fill: #1967D2;\n",
              "        height: 32px;\n",
              "        padding: 0 0 0 0;\n",
              "        width: 32px;\n",
              "      }\n",
              "\n",
              "      .colab-df-generate:hover {\n",
              "        background-color: #E2EBFA;\n",
              "        box-shadow: 0px 1px 2px rgba(60, 64, 67, 0.3), 0px 1px 3px 1px rgba(60, 64, 67, 0.15);\n",
              "        fill: #174EA6;\n",
              "      }\n",
              "\n",
              "      [theme=dark] .colab-df-generate {\n",
              "        background-color: #3B4455;\n",
              "        fill: #D2E3FC;\n",
              "      }\n",
              "\n",
              "      [theme=dark] .colab-df-generate:hover {\n",
              "        background-color: #434B5C;\n",
              "        box-shadow: 0px 1px 3px 1px rgba(0, 0, 0, 0.15);\n",
              "        filter: drop-shadow(0px 1px 2px rgba(0, 0, 0, 0.3));\n",
              "        fill: #FFFFFF;\n",
              "      }\n",
              "    </style>\n",
              "    <button class=\"colab-df-generate\" onclick=\"generateWithVariable('whatsapp_df')\"\n",
              "            title=\"Generate code using this dataframe.\"\n",
              "            style=\"display:none;\">\n",
              "\n",
              "  <svg xmlns=\"http://www.w3.org/2000/svg\" height=\"24px\"viewBox=\"0 0 24 24\"\n",
              "       width=\"24px\">\n",
              "    <path d=\"M7,19H8.4L18.45,9,17,7.55,7,17.6ZM5,21V16.75L18.45,3.32a2,2,0,0,1,2.83,0l1.4,1.43a1.91,1.91,0,0,1,.58,1.4,1.91,1.91,0,0,1-.58,1.4L9.25,21ZM18.45,9,17,7.55Zm-12,3A5.31,5.31,0,0,0,4.9,8.1,5.31,5.31,0,0,0,1,6.5,5.31,5.31,0,0,0,4.9,4.9,5.31,5.31,0,0,0,6.5,1,5.31,5.31,0,0,0,8.1,4.9,5.31,5.31,0,0,0,12,6.5,5.46,5.46,0,0,0,6.5,12Z\"/>\n",
              "  </svg>\n",
              "    </button>\n",
              "    <script>\n",
              "      (() => {\n",
              "      const buttonEl =\n",
              "        document.querySelector('#id_fce233f0-f280-48c9-9b59-8c93171adc47 button.colab-df-generate');\n",
              "      buttonEl.style.display =\n",
              "        google.colab.kernel.accessAllowed ? 'block' : 'none';\n",
              "\n",
              "      buttonEl.onclick = () => {\n",
              "        google.colab.notebook.generateWithVariable('whatsapp_df');\n",
              "      }\n",
              "      })();\n",
              "    </script>\n",
              "  </div>\n",
              "\n",
              "    </div>\n",
              "  </div>\n"
            ],
            "application/vnd.google.colaboratory.intrinsic+json": {
              "type": "dataframe",
              "variable_name": "whatsapp_df",
              "summary": "{\n  \"name\": \"whatsapp_df\",\n  \"rows\": 77,\n  \"fields\": [\n    {\n      \"column\": \"Messages\",\n      \"properties\": {\n        \"dtype\": \"string\",\n        \"num_unique_values\": 77,\n        \"samples\": [\n          \"someone review draft proposal sent\",\n          \"anyone free quick coffee afternoon\",\n          \"emergency maintenance building today expect disruptions\"\n        ],\n        \"semantic_type\": \"\",\n        \"description\": \"\"\n      }\n    }\n  ]\n}"
            }
          },
          "metadata": {},
          "execution_count": 15
        }
      ]
    },
    {
      "cell_type": "code",
      "source": [
        "print_basic_statistics_from_sentences(whatsapp_df['Messages'])"
      ],
      "metadata": {
        "colab": {
          "base_uri": "https://localhost:8080/"
        },
        "id": "hW6lXrOP58mJ",
        "outputId": "58945985-8928-4fb6-c09e-d5a1c0b7bd87"
      },
      "execution_count": 16,
      "outputs": [
        {
          "output_type": "stream",
          "name": "stdout",
          "text": [
            "Average number of words per message: 7.038961038961039\n",
            "Five most frequent words: ['tomorrow', 'update', 'team', 'next', 'reminder']\n",
            "Number of words that appear once: 226\n"
          ]
        }
      ]
    },
    {
      "cell_type": "code",
      "source": [
        "### Performing Tokenization on the Whatsapp Data Using NLTK ###\n",
        "whatsapp_tokens = tokenize_using_nltk(whatsapp_df['Messages'])\n",
        "print('\\n{}\\n'.format(whatsapp_tokens[0:5]))\n",
        "\n",
        "print_basic_statistics_from_sentences(token_matrix_to_string_array(whatsapp_tokens))"
      ],
      "metadata": {
        "colab": {
          "base_uri": "https://localhost:8080/"
        },
        "id": "laq5n-WE6CpK",
        "outputId": "724852ce-10bb-45d7-c389-6a777dc6b731"
      },
      "execution_count": 17,
      "outputs": [
        {
          "output_type": "stream",
          "name": "stdout",
          "text": [
            "Time elapsed: 0.0147[sec]\n",
            "\n",
            "[['hey', 'team', 'quick', 'reminder', 'today', 'meeting', 'conference', 'room'], ['anyone', 'latest', 'sales', 'report', 'need', 'presentation'], ['happy', 'friday', 'everyone', 'plans', 'weekend'], ['heads', 'printer', 'floor', 'toner'], ['someone', 'review', 'draft', 'proposal', 'sent']]\n",
            "\n",
            "Average number of words per message: 7.038961038961039\n",
            "Five most frequent words: ['tomorrow', 'update', 'team', 'next', 'reminder']\n",
            "Number of words that appear once: 226\n"
          ]
        }
      ]
    },
    {
      "cell_type": "code",
      "source": [
        "### Performing Stemming on the Whatsapp Data Using NLTK ###\n",
        "whatsapp_stemmed = stem_using_nltk(whatsapp_tokens)\n",
        "print('\\n{}\\n'.format(whatsapp_stemmed[0:5]))\n",
        "\n",
        "print_basic_statistics_from_sentences(token_matrix_to_string_array(whatsapp_stemmed))"
      ],
      "metadata": {
        "colab": {
          "base_uri": "https://localhost:8080/"
        },
        "id": "QCV7-U8z6Dey",
        "outputId": "da565fd2-4233-47c8-abad-c07923c5ac78"
      },
      "execution_count": 18,
      "outputs": [
        {
          "output_type": "stream",
          "name": "stdout",
          "text": [
            "Time elapsed: 0.0115[sec]\n",
            "\n",
            "[['hey', 'team', 'quick', 'remind', 'today', 'meet', 'conf', 'room'], ['anyon', 'latest', 'sal', 'report', 'nee', 'pres'], ['happy', 'friday', 'everyon', 'plan', 'weekend'], ['head', 'print', 'flo', 'ton'], ['someon', 'review', 'draft', 'propos', 'sent']]\n",
            "\n",
            "Average number of words per message: 7.038961038961039\n",
            "Five most frequent words: ['tomorrow', 'upd', 'team', 'next', 'remind']\n",
            "Number of words that appear once: 196\n"
          ]
        }
      ]
    },
    {
      "cell_type": "code",
      "source": [
        "### Performing Lemmatization on the Whatsapp Data Using NLTK ###\n",
        "whatsapp_lemmatized = lemmatize_using_nltk(whatsapp_tokens)\n",
        "print('\\n{}\\n'.format(whatsapp_lemmatized[0:5]))\n",
        "\n",
        "print_basic_statistics_from_sentences(token_matrix_to_string_array(whatsapp_lemmatized))"
      ],
      "metadata": {
        "colab": {
          "base_uri": "https://localhost:8080/"
        },
        "id": "PZ1Fi4HK6D10",
        "outputId": "455ce370-1235-4607-c39e-d14290f3ab7d"
      },
      "execution_count": 19,
      "outputs": [
        {
          "output_type": "stream",
          "name": "stdout",
          "text": [
            "Time elapsed: 0.0022[sec]\n",
            "\n",
            "[['hey', 'team', 'quick', 'reminder', 'today', 'meeting', 'conference', 'room'], ['anyone', 'latest', 'sale', 'report', 'need', 'presentation'], ['happy', 'friday', 'everyone', 'plan', 'weekend'], ['head', 'printer', 'floor', 'toner'], ['someone', 'review', 'draft', 'proposal', 'sent']]\n",
            "\n",
            "Average number of words per message: 7.038961038961039\n",
            "Five most frequent words: ['tomorrow', 'update', 'team', 'next', 'reminder']\n",
            "Number of words that appear once: 212\n"
          ]
        }
      ]
    },
    {
      "cell_type": "markdown",
      "source": [
        "The solution for the whatsapp messages is done in English because I couldn't find a stemming/lemmatization implementation for Hebrew."
      ],
      "metadata": {
        "id": "y4OBZEOnCY7W"
      }
    }
  ]
}